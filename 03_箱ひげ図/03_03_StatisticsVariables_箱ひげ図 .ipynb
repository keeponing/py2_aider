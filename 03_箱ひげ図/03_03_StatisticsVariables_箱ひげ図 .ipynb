{
  "nbformat": 4,
  "nbformat_minor": 0,
  "metadata": {
    "colab": {
      "provenance": [],
      "authorship_tag": "ABX9TyNDLCK5PhPYAd5LoONajETa"
    },
    "kernelspec": {
      "name": "python3",
      "display_name": "Python 3"
    },
    "language_info": {
      "name": "python"
    }
  },
  "cells": [
    {
      "cell_type": "code",
      "execution_count": 1,
      "metadata": {
        "id": "qNAnYLCu2bwJ",
        "colab": {
          "base_uri": "https://localhost:8080/"
        },
        "outputId": "853da988-6acb-4d51-d704-f5ff1bea7cbf"
      },
      "outputs": [
        {
          "output_type": "stream",
          "name": "stdout",
          "text": [
            "\u001b[1;31mE: \u001b[0mInvalid operation updateapt\u001b[0m\n",
            "\u001b[31mERROR: Could not find a version that satisfies the requirement mdbtools-dev (from versions: none)\u001b[0m\u001b[31m\n",
            "\u001b[0m\u001b[31mERROR: No matching distribution found for mdbtools-dev\u001b[0m\u001b[31m\n",
            "Reading package lists... Done\n",
            "Building dependency tree... Done\n",
            "Reading state information... Done\n",
            "The following additional packages will be installed:\n",
            "  libmdb3 libmdbsql3\n",
            "Suggested packages:\n",
            "  bash-completion\n",
            "The following NEW packages will be installed:\n",
            "  libmdb3 libmdbsql3 mdbtools\n",
            "0 upgraded, 3 newly installed, 0 to remove and 20 not upgraded.\n",
            "Need to get 136 kB of archives.\n",
            "After this operation, 486 kB of additional disk space will be used.\n",
            "Get:1 http://archive.ubuntu.com/ubuntu jammy/universe amd64 libmdb3 amd64 1.0.0+dfsg-1 [68.9 kB]\n",
            "Get:2 http://archive.ubuntu.com/ubuntu jammy/universe amd64 libmdbsql3 amd64 1.0.0+dfsg-1 [18.8 kB]\n",
            "Get:3 http://archive.ubuntu.com/ubuntu jammy/universe amd64 mdbtools amd64 1.0.0+dfsg-1 [48.3 kB]\n",
            "Fetched 136 kB in 1s (229 kB/s)\n",
            "Selecting previously unselected package libmdb3:amd64.\n",
            "(Reading database ... 124926 files and directories currently installed.)\n",
            "Preparing to unpack .../libmdb3_1.0.0+dfsg-1_amd64.deb ...\n",
            "Unpacking libmdb3:amd64 (1.0.0+dfsg-1) ...\n",
            "Selecting previously unselected package libmdbsql3:amd64.\n",
            "Preparing to unpack .../libmdbsql3_1.0.0+dfsg-1_amd64.deb ...\n",
            "Unpacking libmdbsql3:amd64 (1.0.0+dfsg-1) ...\n",
            "Selecting previously unselected package mdbtools.\n",
            "Preparing to unpack .../mdbtools_1.0.0+dfsg-1_amd64.deb ...\n",
            "Unpacking mdbtools (1.0.0+dfsg-1) ...\n",
            "Setting up libmdb3:amd64 (1.0.0+dfsg-1) ...\n",
            "Setting up libmdbsql3:amd64 (1.0.0+dfsg-1) ...\n",
            "Setting up mdbtools (1.0.0+dfsg-1) ...\n",
            "Processing triggers for man-db (2.10.2-1) ...\n",
            "Processing triggers for libc-bin (2.35-0ubuntu3.8) ...\n",
            "/sbin/ldconfig.real: /usr/local/lib/libtbbmalloc.so.2 is not a symbolic link\n",
            "\n",
            "/sbin/ldconfig.real: /usr/local/lib/libtbbbind.so.3 is not a symbolic link\n",
            "\n",
            "/sbin/ldconfig.real: /usr/local/lib/libhwloc.so.15 is not a symbolic link\n",
            "\n",
            "/sbin/ldconfig.real: /usr/local/lib/libtcm_debug.so.1 is not a symbolic link\n",
            "\n",
            "/sbin/ldconfig.real: /usr/local/lib/libur_adapter_opencl.so.0 is not a symbolic link\n",
            "\n",
            "/sbin/ldconfig.real: /usr/local/lib/libtbbmalloc_proxy.so.2 is not a symbolic link\n",
            "\n",
            "/sbin/ldconfig.real: /usr/local/lib/libur_loader.so.0 is not a symbolic link\n",
            "\n",
            "/sbin/ldconfig.real: /usr/local/lib/libtbbbind_2_5.so.3 is not a symbolic link\n",
            "\n",
            "/sbin/ldconfig.real: /usr/local/lib/libtcm.so.1 is not a symbolic link\n",
            "\n",
            "/sbin/ldconfig.real: /usr/local/lib/libur_adapter_level_zero.so.0 is not a symbolic link\n",
            "\n",
            "/sbin/ldconfig.real: /usr/local/lib/libumf.so.0 is not a symbolic link\n",
            "\n",
            "/sbin/ldconfig.real: /usr/local/lib/libtbbbind_2_0.so.3 is not a symbolic link\n",
            "\n",
            "/sbin/ldconfig.real: /usr/local/lib/libtbb.so.12 is not a symbolic link\n",
            "\n",
            "Requirement already satisfied: pandas in /usr/local/lib/python3.11/dist-packages (2.2.2)\n",
            "Collecting pyodbc\n",
            "  Downloading pyodbc-5.2.0-cp311-cp311-manylinux_2_17_x86_64.manylinux2014_x86_64.whl.metadata (2.7 kB)\n",
            "Requirement already satisfied: numpy>=1.23.2 in /usr/local/lib/python3.11/dist-packages (from pandas) (1.26.4)\n",
            "Requirement already satisfied: python-dateutil>=2.8.2 in /usr/local/lib/python3.11/dist-packages (from pandas) (2.8.2)\n",
            "Requirement already satisfied: pytz>=2020.1 in /usr/local/lib/python3.11/dist-packages (from pandas) (2025.1)\n",
            "Requirement already satisfied: tzdata>=2022.7 in /usr/local/lib/python3.11/dist-packages (from pandas) (2025.1)\n",
            "Requirement already satisfied: six>=1.5 in /usr/local/lib/python3.11/dist-packages (from python-dateutil>=2.8.2->pandas) (1.17.0)\n",
            "Downloading pyodbc-5.2.0-cp311-cp311-manylinux_2_17_x86_64.manylinux2014_x86_64.whl (346 kB)\n",
            "\u001b[2K   \u001b[90m━━━━━━━━━━━━━━━━━━━━━━━━━━━━━━━━━━━━━━━━\u001b[0m \u001b[32m346.2/346.2 kB\u001b[0m \u001b[31m4.7 MB/s\u001b[0m eta \u001b[36m0:00:00\u001b[0m\n",
            "\u001b[?25hInstalling collected packages: pyodbc\n",
            "Successfully installed pyodbc-5.2.0\n",
            "Collecting tempfile2\n",
            "  Downloading tempfile2-0.1.2.tar.gz (3.1 kB)\n",
            "  Preparing metadata (setup.py) ... \u001b[?25l\u001b[?25hdone\n",
            "Building wheels for collected packages: tempfile2\n",
            "  Building wheel for tempfile2 (setup.py) ... \u001b[?25l\u001b[?25hdone\n",
            "  Created wheel for tempfile2: filename=tempfile2-0.1.2-py3-none-any.whl size=2713 sha256=66832e2613f4e7fe96c445a3b0c9694fd0a8dafcd3a3ab43a5f3b2d44572a32c\n",
            "  Stored in directory: /root/.cache/pip/wheels/d8/13/c7/7053b5958dafad5cb95b4e26b0df0dcf6ae3a7aa03fe1a02f9\n",
            "Successfully built tempfile2\n",
            "Installing collected packages: tempfile2\n",
            "Successfully installed tempfile2-0.1.2\n"
          ]
        }
      ],
      "source": [
        "\n",
        "!apt updateapt update\n",
        "!pip install mdbtools-dev\n",
        "!apt-get install mdbtools\n",
        "!pip install pandas pyodbc\n",
        "!pip install tempfile2\n",
        "import warnings\n",
        "warnings.filterwarnings('ignore')"
      ]
    },
    {
      "cell_type": "code",
      "source": [
        "from google.colab import drive\n",
        "drive.mount('/content/drive')"
      ],
      "metadata": {
        "colab": {
          "base_uri": "https://localhost:8080/"
        },
        "id": "ZJ7nrX1c3HQJ",
        "outputId": "e9faa62f-d220-475e-b7c5-ea3540b25e11"
      },
      "execution_count": 3,
      "outputs": [
        {
          "output_type": "stream",
          "name": "stdout",
          "text": [
            "Mounted at /content/drive\n"
          ]
        }
      ]
    },
    {
      "cell_type": "code",
      "source": [
        "import sys\n",
        "sys.path.append('/content/drive/MyDrive/Dev/py2/')\n",
        "import numpy as np\n",
        "\n",
        "import pandas as pd\n",
        "from google.colab import files\n",
        "import os\n",
        "import subprocess\n",
        "from io import StringIO  # StringIOを正しくインポート\n",
        "import model.utility.k_analysis_util as k_a_util\n",
        "from IPython.display import display\n",
        "\n",
        "from google.colab import drive\n",
        "import matplotlib.pyplot as plt\n",
        "import seaborn as sns\n",
        "from tqdm import trange"
      ],
      "metadata": {
        "id": "XBQGTsi1EGkO"
      },
      "execution_count": null,
      "outputs": []
    },
    {
      "cell_type": "code",
      "source": [
        "\n",
        "# 使用例\n",
        "table_name = 'StatisticsVariables'  # テーブル名を指定\n",
        "\n",
        "file_list = [f'kjdb_prediction_cache_{year}.accdb' for year in range(2000, 2025)]\n",
        "years = range(2000, 2026)\n",
        "\n",
        "k_a_util.prepare_pd_on_notebook()\n",
        "print(len(file_list))\n",
        "\n",
        "dict_statistics={}\n",
        "for i in trange(len(years)):\n",
        "  y = years[i]\n",
        "  filepath = f'/content/drive/MyDrive/Dev/Kjvan/kjdb_prediction_cache_{y}.accdb'\n",
        "  df_summary = k_a_util.read_table(filepath, table_name)\n",
        "  #df_summary = df_summary[df_summary['sv_program_id'].str[-2:].astype(int).between(1, 10)]\n",
        "  #df_summary = df_summary[df_summary['sv_program_id'].str[-2:].apply(lambda x: x.isdigit() and 1 <= int(x) <= 10)]\n",
        " # df_summary = df_summary[df_summary['sv_program_id'].str[-2:].apply(lambda x: x.isdigit() and 1 <= int(x) <= 10)]\n",
        "\n",
        "  columns_to_drop = ['sv_program_id','sv_horse_id', 'upd']\n",
        "  df = df_summary.drop(columns=columns_to_drop)\n",
        "  dict_statistics[y] = df.astype(float)"
      ],
      "metadata": {
        "id": "MRyXsKhEzCFj"
      },
      "execution_count": null,
      "outputs": []
    },
    {
      "cell_type": "code",
      "source": [
        "# 箱ひげ図の作成 (グラフの行数、列数、解像度を適宜変更)\n",
        "#k_a_util.plot_boxplots(dict_statistics, rows=2, cols=4, dpi=72)\n",
        "\n",
        "k_a_util.plot_boxplots_by_year(dict_statistics)"
      ],
      "metadata": {
        "id": "DeqYw45pf6FD"
      },
      "execution_count": null,
      "outputs": []
    },
    {
      "cell_type": "code",
      "source": [
        "# prompt: ２つの同じ構成のデータフレームのある列を箱ひげ図を表示して比較するようにする関数を作っていください。引数はDataFrame２つと列名です\n",
        "\n",
        "import matplotlib.pyplot as plt\n",
        "import seaborn as sns\n",
        "\n",
        "def compare_columns_with_boxplot(df1, df2, column_name):\n",
        "    \"\"\"\n",
        "    2つのデータフレームの同じ列を箱ひげ図で比較表示する関数。\n",
        "\n",
        "    Args:\n",
        "        df1: 比較対象のデータフレーム1。\n",
        "        df2: 比較対象のデータフレーム2。\n",
        "        column_name: 比較対象の列名。\n",
        "    \"\"\"\n",
        "\n",
        "    # データの結合\n",
        "    df1['DataFrame'] = 'DataFrame 1'  # データフレームの識別用列を追加\n",
        "    df2['DataFrame'] = 'DataFrame 2'\n",
        "    combined_df = pd.concat([df1[[column_name, 'DataFrame']], df2[[column_name, 'DataFrame']]])\n",
        "\n",
        "    # 箱ひげ図の作成\n",
        "    plt.figure(figsize=(10, 6))  # 図のサイズを調整\n",
        "    sns.boxplot(x='DataFrame', y=column_name, data=combined_df)\n",
        "    plt.title(f'{column_name} Comparison')\n",
        "    plt.xlabel('DataFrame')\n",
        "    plt.ylabel(column_name)\n",
        "    plt.show()"
      ],
      "metadata": {
        "id": "p8hmoSwwCF3l"
      },
      "execution_count": null,
      "outputs": []
    },
    {
      "cell_type": "code",
      "source": [
        "# prompt: ２つの同じ構成のデータフレームのある列を箱ひげ図を表示して比較するようにする関数を作っていください。引数はDataFrame２つとDataFrame名1と２、それと列名です。\n",
        "# 列名は複数指定して、それ事に比較する箱ひげ図を書いてください\n",
        "\n",
        "def compare_dataframes_with_boxplot(df1, df2, df1_name, df2_name, column_names):\n",
        "    \"\"\"\n",
        "    2つのデータフレームの指定した列を箱ひげ図で比較表示する関数。\n",
        "\n",
        "    Args:\n",
        "        df1: 比較対象のデータフレーム1。\n",
        "        df2: 比較対象のデータフレーム2。\n",
        "        df1_name: データフレーム1の名前 (文字列)。\n",
        "        df2_name: データフレーム2の名前 (文字列)。\n",
        "        column_names: 比較対象の列名のリスト。\n",
        "    \"\"\"\n",
        "\n",
        "    for column_name in column_names:\n",
        "        # データの結合\n",
        "        df1_temp = df1[[column_name]].copy()\n",
        "        df1_temp['DataFrame'] = df1_name\n",
        "        df2_temp = df2[[column_name]].copy()\n",
        "        df2_temp['DataFrame'] = df2_name\n",
        "        combined_df = pd.concat([df1_temp, df2_temp])\n",
        "\n",
        "        # 箱ひげ図の作成\n",
        "        plt.figure(figsize=(10, 6))\n",
        "        sns.boxplot(x='DataFrame', y=column_name, data=combined_df)\n",
        "        plt.title(f'{column_name} Comparison between {df1_name} and {df2_name}')\n",
        "        plt.xlabel('DataFrame')\n",
        "        plt.ylabel(column_name)\n",
        "        plt.show()"
      ],
      "metadata": {
        "id": "RRPmc9r8Du63"
      },
      "execution_count": null,
      "outputs": []
    },
    {
      "cell_type": "code",
      "source": [
        "\n",
        "column_names=['sv_arg_dev','sv_arg_dev']\n",
        "compare_two_dfs_boxplot(dict_statistics[2024], dict_statistics[2000], '2024', '2000',column_names)"
      ],
      "metadata": {
        "id": "udW7HE3-D_M6"
      },
      "execution_count": null,
      "outputs": []
    },
    {
      "cell_type": "code",
      "source": [],
      "metadata": {
        "id": "SJQijxVVEHJH"
      },
      "execution_count": null,
      "outputs": []
    }
  ]
}