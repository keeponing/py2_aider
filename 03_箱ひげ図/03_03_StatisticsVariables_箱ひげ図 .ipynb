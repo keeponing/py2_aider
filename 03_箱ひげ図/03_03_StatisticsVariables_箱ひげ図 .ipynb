{
  "nbformat": 4,
  "nbformat_minor": 0,
  "metadata": {
    "colab": {
      "provenance": [],
      "authorship_tag": "ABX9TyNpWBONBxO6KD/Kd6kGcosx"
    },
    "kernelspec": {
      "name": "python3",
      "display_name": "Python 3"
    },
    "language_info": {
      "name": "python"
    }
  },
  "cells": [
    {
      "cell_type": "code",
      "execution_count": 19,
      "metadata": {
        "id": "qNAnYLCu2bwJ",
        "colab": {
          "base_uri": "https://localhost:8080/"
        },
        "outputId": "4a20c601-fb5e-4b5a-befd-840c2e672f9c"
      },
      "outputs": [
        {
          "output_type": "stream",
          "name": "stdout",
          "text": [
            "\u001b[1;31mE: \u001b[0mInvalid operation updateapt\u001b[0m\n",
            "\u001b[31mERROR: Could not find a version that satisfies the requirement mdbtools-dev (from versions: none)\u001b[0m\u001b[31m\n",
            "\u001b[0m\u001b[31mERROR: No matching distribution found for mdbtools-dev\u001b[0m\u001b[31m\n",
            "Reading package lists... Done\n",
            "Building dependency tree... Done\n",
            "Reading state information... Done\n",
            "mdbtools is already the newest version (1.0.0+dfsg-1).\n",
            "0 upgraded, 0 newly installed, 0 to remove and 49 not upgraded.\n",
            "Requirement already satisfied: pandas in /usr/local/lib/python3.10/dist-packages (2.2.2)\n",
            "Requirement already satisfied: pyodbc in /usr/local/lib/python3.10/dist-packages (5.2.0)\n",
            "Requirement already satisfied: numpy>=1.22.4 in /usr/local/lib/python3.10/dist-packages (from pandas) (1.26.4)\n",
            "Requirement already satisfied: python-dateutil>=2.8.2 in /usr/local/lib/python3.10/dist-packages (from pandas) (2.8.2)\n",
            "Requirement already satisfied: pytz>=2020.1 in /usr/local/lib/python3.10/dist-packages (from pandas) (2024.2)\n",
            "Requirement already satisfied: tzdata>=2022.7 in /usr/local/lib/python3.10/dist-packages (from pandas) (2024.2)\n",
            "Requirement already satisfied: six>=1.5 in /usr/local/lib/python3.10/dist-packages (from python-dateutil>=2.8.2->pandas) (1.17.0)\n",
            "Requirement already satisfied: tempfile2 in /usr/local/lib/python3.10/dist-packages (0.1.2)\n"
          ]
        }
      ],
      "source": [
        "\n",
        "!apt updateapt update\n",
        "!pip install mdbtools-dev\n",
        "!apt-get install mdbtools\n",
        "!pip install pandas pyodbc\n",
        "!pip install tempfile2\n",
        "import warnings\n",
        "warnings.filterwarnings('ignore')"
      ]
    },
    {
      "cell_type": "code",
      "source": [
        "from google.colab import drive\n",
        "drive.mount('/content/drive')"
      ],
      "metadata": {
        "colab": {
          "base_uri": "https://localhost:8080/"
        },
        "id": "ZJ7nrX1c3HQJ",
        "outputId": "8dee42e4-5a42-4c39-f35b-02f7b2a6b947"
      },
      "execution_count": 20,
      "outputs": [
        {
          "output_type": "stream",
          "name": "stdout",
          "text": [
            "Drive already mounted at /content/drive; to attempt to forcibly remount, call drive.mount(\"/content/drive\", force_remount=True).\n"
          ]
        }
      ]
    },
    {
      "cell_type": "code",
      "source": [
        "import sys\n",
        "sys.path.append('/content/drive/MyDrive/Dev/py2/')\n",
        "import numpy as np\n",
        "\n",
        "import pandas as pd\n",
        "from google.colab import files\n",
        "import os\n",
        "import subprocess\n",
        "from io import StringIO  # StringIOを正しくインポート\n",
        "import model.utility.k_analysis_util as k_a_util\n",
        "from IPython.display import display\n",
        "\n",
        "from google.colab import drive\n",
        "import matplotlib.pyplot as plt\n",
        "import seaborn as sns"
      ],
      "metadata": {
        "id": "XBQGTsi1EGkO"
      },
      "execution_count": 21,
      "outputs": []
    },
    {
      "cell_type": "code",
      "source": [
        "\n",
        "# 使用例\n",
        "table_name = 'StatisticsVariables'  # テーブル名を指定\n",
        "\n",
        "file_list = [f'kjdb_prediction_cache_{year}.accdb' for year in range(2000, 2025)]\n",
        "years = range(2000, 2025)\n",
        "\n",
        "k_a_util.prepare_pd_on_notebook()\n",
        "print(len(file_list))\n",
        "\n",
        "dict_statistics={}\n",
        "for i in trange(len(years)):\n",
        "  y = years[i]\n",
        "  filepath = f'/content/drive/MyDrive/Dev/Kjvan/kjdb_prediction_cache_{y}.accdb'\n",
        "  df_summary = k_a_util.read_table(filepath, table_name)\n",
        "  columns_to_drop = ['sv_program_id','sv_horse_id', 'upd']\n",
        "  df = df_summary.drop(columns=columns_to_drop)\n",
        "  dict_statistics[y] = df"
      ],
      "metadata": {
        "colab": {
          "base_uri": "https://localhost:8080/",
          "height": 241
        },
        "id": "MRyXsKhEzCFj",
        "outputId": "c84c3326-ab61-4b2c-9fa8-20d5082d26c9"
      },
      "execution_count": 23,
      "outputs": [
        {
          "output_type": "stream",
          "name": "stdout",
          "text": [
            "25\n",
            "Error: テーブル 'StatisticsVariables' はファイル '/content/drive/MyDrive/Dev/Kjvan/kjdb_prediction_cache_2012.accdb' に存在しません。\n"
          ]
        },
        {
          "output_type": "error",
          "ename": "AttributeError",
          "evalue": "'NoneType' object has no attribute 'drop'",
          "traceback": [
            "\u001b[0;31m---------------------------------------------------------------------------\u001b[0m",
            "\u001b[0;31mAttributeError\u001b[0m                            Traceback (most recent call last)",
            "\u001b[0;32m<ipython-input-23-11c754e1cdf8>\u001b[0m in \u001b[0;36m<cell line: 11>\u001b[0;34m()\u001b[0m\n\u001b[1;32m     13\u001b[0m   \u001b[0mdf_summary\u001b[0m \u001b[0;34m=\u001b[0m \u001b[0mk_a_util\u001b[0m\u001b[0;34m.\u001b[0m\u001b[0mread_table\u001b[0m\u001b[0;34m(\u001b[0m\u001b[0mfilepath\u001b[0m\u001b[0;34m,\u001b[0m \u001b[0mtable_name\u001b[0m\u001b[0;34m)\u001b[0m\u001b[0;34m\u001b[0m\u001b[0;34m\u001b[0m\u001b[0m\n\u001b[1;32m     14\u001b[0m   \u001b[0mcolumns_to_drop\u001b[0m \u001b[0;34m=\u001b[0m \u001b[0;34m[\u001b[0m\u001b[0;34m'sv_program_id'\u001b[0m\u001b[0;34m,\u001b[0m\u001b[0;34m'sv_horse_id'\u001b[0m\u001b[0;34m,\u001b[0m \u001b[0;34m'upd'\u001b[0m\u001b[0;34m]\u001b[0m\u001b[0;34m\u001b[0m\u001b[0;34m\u001b[0m\u001b[0m\n\u001b[0;32m---> 15\u001b[0;31m   \u001b[0mdf\u001b[0m \u001b[0;34m=\u001b[0m \u001b[0mdf_summary\u001b[0m\u001b[0;34m.\u001b[0m\u001b[0mdrop\u001b[0m\u001b[0;34m(\u001b[0m\u001b[0mcolumns\u001b[0m\u001b[0;34m=\u001b[0m\u001b[0mcolumns_to_drop\u001b[0m\u001b[0;34m)\u001b[0m\u001b[0;34m\u001b[0m\u001b[0;34m\u001b[0m\u001b[0m\n\u001b[0m\u001b[1;32m     16\u001b[0m   \u001b[0mdict_statistics\u001b[0m\u001b[0;34m[\u001b[0m\u001b[0my\u001b[0m\u001b[0;34m]\u001b[0m \u001b[0;34m=\u001b[0m \u001b[0mdf\u001b[0m\u001b[0;34m\u001b[0m\u001b[0;34m\u001b[0m\u001b[0m\n",
            "\u001b[0;31mAttributeError\u001b[0m: 'NoneType' object has no attribute 'drop'"
          ]
        }
      ]
    },
    {
      "cell_type": "code",
      "source": [
        "# 箱ひげ図の作成 (グラフの行数、列数、解像度を適宜変更)\n",
        "#k_a_util.plot_boxplots(dict_statistics, rows=2, cols=4, dpi=72)\n",
        "\n",
        "k_a_util.plot_boxplots_by_year(dict_statistics)"
      ],
      "metadata": {
        "id": "DeqYw45pf6FD"
      },
      "execution_count": null,
      "outputs": []
    },
    {
      "cell_type": "code",
      "source": [
        "# prompt: ２つの同じ構成のデータフレームのある列を箱ひげ図を表示して比較するようにする関数を作っていください。引数はDataFrame２つと列名です\n",
        "\n",
        "import matplotlib.pyplot as plt\n",
        "import seaborn as sns\n",
        "\n",
        "def compare_columns_with_boxplot(df1, df2, column_name):\n",
        "    \"\"\"\n",
        "    2つのデータフレームの同じ列を箱ひげ図で比較表示する関数。\n",
        "\n",
        "    Args:\n",
        "        df1: 比較対象のデータフレーム1。\n",
        "        df2: 比較対象のデータフレーム2。\n",
        "        column_name: 比較対象の列名。\n",
        "    \"\"\"\n",
        "\n",
        "    # データの結合\n",
        "    df1['DataFrame'] = 'DataFrame 1'  # データフレームの識別用列を追加\n",
        "    df2['DataFrame'] = 'DataFrame 2'\n",
        "    combined_df = pd.concat([df1[[column_name, 'DataFrame']], df2[[column_name, 'DataFrame']]])\n",
        "\n",
        "    # 箱ひげ図の作成\n",
        "    plt.figure(figsize=(10, 6))  # 図のサイズを調整\n",
        "    sns.boxplot(x='DataFrame', y=column_name, data=combined_df)\n",
        "    plt.title(f'{column_name} Comparison')\n",
        "    plt.xlabel('DataFrame')\n",
        "    plt.ylabel(column_name)\n",
        "    plt.show()"
      ],
      "metadata": {
        "id": "p8hmoSwwCF3l"
      },
      "execution_count": null,
      "outputs": []
    },
    {
      "cell_type": "code",
      "source": [
        "# prompt: ２つの同じ構成のデータフレームのある列を箱ひげ図を表示して比較するようにする関数を作っていください。引数はDataFrame２つとDataFrame名1と２、それと列名です。\n",
        "# 列名は複数指定して、それ事に比較する箱ひげ図を書いてください\n",
        "\n",
        "def compare_dataframes_with_boxplot(df1, df2, df1_name, df2_name, column_names):\n",
        "    \"\"\"\n",
        "    2つのデータフレームの指定した列を箱ひげ図で比較表示する関数。\n",
        "\n",
        "    Args:\n",
        "        df1: 比較対象のデータフレーム1。\n",
        "        df2: 比較対象のデータフレーム2。\n",
        "        df1_name: データフレーム1の名前 (文字列)。\n",
        "        df2_name: データフレーム2の名前 (文字列)。\n",
        "        column_names: 比較対象の列名のリスト。\n",
        "    \"\"\"\n",
        "\n",
        "    for column_name in column_names:\n",
        "        # データの結合\n",
        "        df1_temp = df1[[column_name]].copy()\n",
        "        df1_temp['DataFrame'] = df1_name\n",
        "        df2_temp = df2[[column_name]].copy()\n",
        "        df2_temp['DataFrame'] = df2_name\n",
        "        combined_df = pd.concat([df1_temp, df2_temp])\n",
        "\n",
        "        # 箱ひげ図の作成\n",
        "        plt.figure(figsize=(10, 6))\n",
        "        sns.boxplot(x='DataFrame', y=column_name, data=combined_df)\n",
        "        plt.title(f'{column_name} Comparison between {df1_name} and {df2_name}')\n",
        "        plt.xlabel('DataFrame')\n",
        "        plt.ylabel(column_name)\n",
        "        plt.show()"
      ],
      "metadata": {
        "id": "RRPmc9r8Du63"
      },
      "execution_count": null,
      "outputs": []
    },
    {
      "cell_type": "code",
      "source": [
        "\n",
        "column_names=['sv_arg_dev','sv_arg_dev']\n",
        "compare_two_dfs_boxplot(dict_statistics[2024], dict_statistics[2000], '2024', '2000',column_names)"
      ],
      "metadata": {
        "id": "udW7HE3-D_M6"
      },
      "execution_count": null,
      "outputs": []
    },
    {
      "cell_type": "code",
      "source": [],
      "metadata": {
        "id": "SJQijxVVEHJH"
      },
      "execution_count": null,
      "outputs": []
    }
  ]
}