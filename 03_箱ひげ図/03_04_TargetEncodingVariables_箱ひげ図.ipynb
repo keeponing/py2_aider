{
  "cells": [
    {
      "cell_type": "code",
      "execution_count": null,
      "metadata": {
        "id": "qNAnYLCu2bwJ"
      },
      "outputs": [],
      "source": [
        "\n",
        "!apt updateapt update\n",
        "!pip install mdbtools-dev\n",
        "!apt-get install mdbtools\n",
        "!pip install pandas pyodbc\n",
        "!pip install tempfile2\n",
        "import warnings\n",
        "warnings.filterwarnings('ignore')"
      ]
    },
    {
      "cell_type": "code",
      "execution_count": 2,
      "metadata": {
        "colab": {
          "base_uri": "https://localhost:8080/"
        },
        "id": "ZJ7nrX1c3HQJ",
        "outputId": "8e7b03ee-b7b2-4ebe-88c6-74561e177768"
      },
      "outputs": [
        {
          "output_type": "stream",
          "name": "stdout",
          "text": [
            "Mounted at /content/drive\n"
          ]
        }
      ],
      "source": [
        "from google.colab import drive\n",
        "drive.mount('/content/drive')"
      ]
    },
    {
      "cell_type": "code",
      "execution_count": 3,
      "metadata": {
        "id": "XBQGTsi1EGkO"
      },
      "outputs": [],
      "source": [
        "import sys\n",
        "sys.path.append('/content/drive/MyDrive/Dev/py2/')\n",
        "import numpy as np\n",
        "\n",
        "import pandas as pd\n",
        "from google.colab import files\n",
        "import os\n",
        "import subprocess\n",
        "from io import StringIO  # StringIOを正しくインポート\n",
        "import model.utility.k_analysis_util as k_a_util\n",
        "from IPython.display import display\n",
        "\n",
        "from google.colab import drive\n",
        "import matplotlib.pyplot as plt\n",
        "import seaborn as sns\n",
        "from tqdm import trange"
      ]
    },
    {
      "cell_type": "code",
      "execution_count": null,
      "metadata": {
        "colab": {
          "base_uri": "https://localhost:8080/"
        },
        "id": "MRyXsKhEzCFj",
        "outputId": "e4834ea1-00e9-465b-9f74-2f8b42348cfe"
      },
      "outputs": [
        {
          "output_type": "stream",
          "name": "stdout",
          "text": [
            "25\n"
          ]
        }
      ],
      "source": [
        "\n",
        "# 使用例\n",
        "table_name = 'TargetEncodingVariables'  # テーブル名を指定\n",
        "\n",
        "file_list = [f'kjdb_prediction_cache_{year}.accdb' for year in range(2000, 2025)]\n",
        "years = range(2000, 2026)\n",
        "\n",
        "k_a_util.prepare_pd_on_notebook()\n",
        "print(len(file_list))\n",
        "\n",
        "dict_statistics={}\n",
        "for i in trange(len(years)):\n",
        "  y = years[i]\n",
        "  filepath = f'/content/drive/MyDrive/Dev/Kjvan/kjdb_prediction_cache_{y}.accdb'\n",
        "  df_summary = k_a_util.read_table(filepath, table_name)\n",
        "  columns_to_drop = ['te_id','te_horse_id', 'upd']\n",
        "  df = df_summary.drop(columns=columns_to_drop)\n",
        "  dict_statistics[y] = df"
      ]
    },
    {
      "cell_type": "code",
      "execution_count": null,
      "metadata": {
        "id": "DeqYw45pf6FD"
      },
      "outputs": [],
      "source": [
        "# 箱ひげ図の作成 (グラフの行数、列数、解像度を適宜変更)\n",
        "#k_a_util.plot_boxplots(dict_statistics, rows=2, cols=4, dpi=72)\n",
        "\n",
        "k_a_util.plot_boxplots_by_year(dict_statistics)"
      ]
    },
    {
      "cell_type": "code",
      "execution_count": null,
      "metadata": {
        "id": "Odp7_hUm0cRr"
      },
      "outputs": [],
      "source": []
    }
  ],
  "metadata": {
    "colab": {
      "provenance": []
    },
    "kernelspec": {
      "display_name": "Python 3",
      "name": "python3"
    },
    "language_info": {
      "name": "python"
    }
  },
  "nbformat": 4,
  "nbformat_minor": 0
}