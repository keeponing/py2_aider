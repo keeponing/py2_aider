{
  "nbformat": 4,
  "nbformat_minor": 0,
  "metadata": {
    "colab": {
      "provenance": [],
      "authorship_tag": "ABX9TyNDy94VgqBJF66ZMrV+S++P"
    },
    "kernelspec": {
      "name": "python3",
      "display_name": "Python 3"
    },
    "language_info": {
      "name": "python"
    }
  },
  "cells": [
    {
      "cell_type": "code",
      "execution_count": 36,
      "metadata": {
        "id": "qNAnYLCu2bwJ",
        "colab": {
          "base_uri": "https://localhost:8080/"
        },
        "outputId": "6a18fcf9-ba84-40a7-8ca4-ec084922d804"
      },
      "outputs": [
        {
          "output_type": "stream",
          "name": "stdout",
          "text": [
            "\u001b[31mERROR: Could not find a version that satisfies the requirement mdbtools-dev (from versions: none)\u001b[0m\u001b[31m\n",
            "\u001b[0m\u001b[31mERROR: No matching distribution found for mdbtools-dev\u001b[0m\u001b[31m\n",
            "Reading package lists... Done\n",
            "Building dependency tree... Done\n",
            "Reading state information... Done\n",
            "mdbtools is already the newest version (1.0.0+dfsg-1).\n",
            "0 upgraded, 0 newly installed, 0 to remove and 49 not upgraded.\n",
            "Requirement already satisfied: pandas in /usr/local/lib/python3.10/dist-packages (2.2.2)\n",
            "Requirement already satisfied: pyodbc in /usr/local/lib/python3.10/dist-packages (5.2.0)\n",
            "Requirement already satisfied: numpy>=1.22.4 in /usr/local/lib/python3.10/dist-packages (from pandas) (1.26.4)\n",
            "Requirement already satisfied: python-dateutil>=2.8.2 in /usr/local/lib/python3.10/dist-packages (from pandas) (2.8.2)\n",
            "Requirement already satisfied: pytz>=2020.1 in /usr/local/lib/python3.10/dist-packages (from pandas) (2024.2)\n",
            "Requirement already satisfied: tzdata>=2022.7 in /usr/local/lib/python3.10/dist-packages (from pandas) (2024.2)\n",
            "Requirement already satisfied: six>=1.5 in /usr/local/lib/python3.10/dist-packages (from python-dateutil>=2.8.2->pandas) (1.17.0)\n"
          ]
        }
      ],
      "source": [
        "!pip install mdbtools-dev\n",
        "!apt-get install mdbtools\n",
        "!pip install pandas pyodbc\n"
      ]
    },
    {
      "cell_type": "code",
      "source": [
        "from google.colab import drive\n",
        "drive.mount('/content/drive')"
      ],
      "metadata": {
        "colab": {
          "base_uri": "https://localhost:8080/"
        },
        "id": "ZJ7nrX1c3HQJ",
        "outputId": "2d594128-7af0-4a6e-f83a-11381d794d56"
      },
      "execution_count": 37,
      "outputs": [
        {
          "output_type": "stream",
          "name": "stdout",
          "text": [
            "Drive already mounted at /content/drive; to attempt to forcibly remount, call drive.mount(\"/content/drive\", force_remount=True).\n"
          ]
        }
      ]
    },
    {
      "cell_type": "code",
      "source": [
        "import sys\n",
        "sys.path.append('/content/drive/MyDrive/Dev/py2/')\n",
        "import numpy as np\n",
        "\n",
        "import pandas as pd\n",
        "from google.colab import files\n",
        "import os\n",
        "import subprocess\n",
        "from io import StringIO  # StringIOを正しくインポート\n",
        "import model.utility.k_analysis_util as k_a_util\n"
      ],
      "metadata": {
        "id": "XBQGTsi1EGkO"
      },
      "execution_count": 38,
      "outputs": []
    },
    {
      "cell_type": "code",
      "source": [
        "def summarize_dataframes(dfs, years):\n",
        "    \"\"\"\n",
        "    複数のDataFrameの統計量を計算し、年ごとにまとめたDataFrameを作成する。\n",
        "\n",
        "    Args:\n",
        "        dfs: DataFrameのリスト\n",
        "        years: 年のリスト (dfsと同じ長さであること)\n",
        "\n",
        "    Returns:\n",
        "        統計量をまとめたDataFrame。DataFrameのリストと年のリストの長さが異なる場合はNoneを返す。\n",
        "        DataFrameが空の場合もNoneを返す。\n",
        "    \"\"\"\n",
        "    if not dfs or not all(not df.empty for df in dfs):\n",
        "        print(\"Error: Empty DataFrame(s) provided.\")\n",
        "        return None\n",
        "\n",
        "    if len(dfs) != len(years):\n",
        "        print(\"Error: Length of DataFrames and years lists must be the same.\")\n",
        "        return None\n",
        "\n",
        "    all_numeric_cols = set()\n",
        "    for df in dfs:\n",
        "        numeric_cols = df.select_dtypes(include=np.number).columns\n",
        "        all_numeric_cols.update(numeric_cols)\n",
        "\n",
        "    summary = pd.DataFrame(index=years)\n",
        "\n",
        "    for col in all_numeric_cols:\n",
        "        for i, (df, year) in enumerate(zip(dfs, years)):\n",
        "            if col in df.columns:  # DataFrameに列が存在するか確認\n",
        "                summary.loc[year, (col, 'mean')] = df[col].mean()\n",
        "                summary.loc[year, (col, 'std')] = df[col].std()\n",
        "                summary.loc[year, (col, 'min')] = df[col].min()\n",
        "                summary.loc[year, (col, '25%')] = df[col].quantile(0.25) # 25%を追加\n",
        "                summary.loc[year, (col, '50%')] = df[col].quantile(0.50) # 50%を追加\n",
        "                summary.loc[year, (col, '75%')] = df[col].quantile(0.75) # 75%を追加\n",
        "                summary.loc[year, (col, 'max')] = df[col].max()       # maxを追加\n",
        "\n",
        "            # else:\n",
        "            #     # 列が存在しない場合はNaNを設定して警告を出す\n",
        "            #     print(f\"Warning: Column '{col}' not found in DataFrame for year {year}.\")\n",
        "            #     summary.loc[year, (col, 'mean')] = np.nan\n",
        "            #     summary.loc[year, (col, 'std')] = np.nan\n",
        "            #     summary.loc[year, (col, 'min')] = np.nan\n",
        "            #     summary.loc[year, (col, '25%')] = np.nan\n",
        "            #     summary.loc[year, (col, '50%')] = np.nan\n",
        "            #     summary.loc[year, (col, '75%')] = np.nan\n",
        "            #     summary.loc[year, (col, 'max')] = np.nan\n",
        "\n",
        "    return summary\n"
      ],
      "metadata": {
        "id": "I3XBPi1qGRRH"
      },
      "execution_count": 39,
      "outputs": []
    },
    {
      "cell_type": "code",
      "source": [
        "\n",
        "# 使用例\n",
        "table_name = 'PredictorVariables'  # テーブル名を指定\n",
        "\n",
        "file_list = [f'kjdb_prediction_cache_{year}.accdb' for year in range(2000, 2025)]\n",
        "years = range(2000, 2025)\n",
        "\n",
        "k_a_util.prepare_pd_on_notebook()\n",
        "print(len(file_list))\n",
        "\n",
        "df_statistics=[]\n",
        "for y in years:\n",
        "  filepath = f'/content/drive/MyDrive/Dev/Kjvan/kjdb_prediction_cache_{y}.accdb'\n",
        "  #df_summary = k_a_util.access_file_statistics(filepath, table_name)\n",
        "  columns_to_drop = [ 'key_horse_id', 'desc_horse_no', 'upd', 'obj_rank']\n",
        "  df = df_summary.drop(columns=columns_to_drop)\n",
        "  df_statistics.append(df)"
      ],
      "metadata": {
        "colab": {
          "base_uri": "https://localhost:8080/"
        },
        "id": "MRyXsKhEzCFj",
        "outputId": "e024d2eb-2935-41ca-b2a5-87472164d0b6"
      },
      "execution_count": null,
      "outputs": [
        {
          "output_type": "stream",
          "name": "stdout",
          "text": [
            "25\n"
          ]
        }
      ]
    },
    {
      "cell_type": "code",
      "source": [
        "# CSVファイルから読み込む場合の例 (3つのファイルを読み込む例に変更)\n",
        "try:\n",
        "    summary_df_from_csv = summarize_dataframes(df_statistics, years)\n",
        "    print(summary_df_from_csv)\n",
        "\n",
        "except FileNotFoundError as e:\n",
        "    print(f\"\\nCSVファイルが見つかりませんでした: {e}\")\n",
        "    print(\"上記はサンプルデータを用いた実行結果です。\")\n",
        "except pd.errors.EmptyDataError as e:\n",
        "    print(f\"\\nCSVファイルが空です: {e}\")\n",
        "    print(\"上記はサンプルデータを用いた実行結果です。\")\n",
        "except Exception as e:  # その他の例外をキャッチ\n",
        "    print(f\"\\nCSVファイルの処理中にエラーが発生しました: {e}\")\n",
        "    print(\"上記はサンプルデータを用いた実行結果です。\")\n"
      ],
      "metadata": {
        "id": "DjnSmw-4nget"
      },
      "execution_count": null,
      "outputs": []
    },
    {
      "cell_type": "code",
      "source": [],
      "metadata": {
        "id": "b_MHWtF40ky6"
      },
      "execution_count": null,
      "outputs": []
    }
  ]
}