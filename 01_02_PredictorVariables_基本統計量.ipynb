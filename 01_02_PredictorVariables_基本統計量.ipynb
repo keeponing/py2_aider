{
  "nbformat": 4,
  "nbformat_minor": 0,
  "metadata": {
    "colab": {
      "provenance": [],
      "authorship_tag": "ABX9TyOkNL68U3QsexhHcwTAN8w3"
    },
    "kernelspec": {
      "name": "python3",
      "display_name": "Python 3"
    },
    "language_info": {
      "name": "python"
    }
  },
  "cells": [
    {
      "cell_type": "code",
      "execution_count": 1,
      "metadata": {
        "id": "qNAnYLCu2bwJ",
        "colab": {
          "base_uri": "https://localhost:8080/"
        },
        "outputId": "18122a37-4a7d-49e7-8ccf-1974d6ccdcb5"
      },
      "outputs": [
        {
          "output_type": "stream",
          "name": "stdout",
          "text": [
            "\u001b[31mERROR: Could not find a version that satisfies the requirement mdbtools-dev (from versions: none)\u001b[0m\u001b[31m\n",
            "\u001b[0m\u001b[31mERROR: No matching distribution found for mdbtools-dev\u001b[0m\u001b[31m\n",
            "Reading package lists... Done\n",
            "Building dependency tree... Done\n",
            "Reading state information... Done\n",
            "The following additional packages will be installed:\n",
            "  libmdb3 libmdbsql3\n",
            "Suggested packages:\n",
            "  bash-completion\n",
            "The following NEW packages will be installed:\n",
            "  libmdb3 libmdbsql3 mdbtools\n",
            "0 upgraded, 3 newly installed, 0 to remove and 49 not upgraded.\n",
            "Need to get 136 kB of archives.\n",
            "After this operation, 486 kB of additional disk space will be used.\n",
            "Get:1 http://archive.ubuntu.com/ubuntu jammy/universe amd64 libmdb3 amd64 1.0.0+dfsg-1 [68.9 kB]\n",
            "Get:2 http://archive.ubuntu.com/ubuntu jammy/universe amd64 libmdbsql3 amd64 1.0.0+dfsg-1 [18.8 kB]\n",
            "Get:3 http://archive.ubuntu.com/ubuntu jammy/universe amd64 mdbtools amd64 1.0.0+dfsg-1 [48.3 kB]\n",
            "Fetched 136 kB in 0s (729 kB/s)\n",
            "Selecting previously unselected package libmdb3:amd64.\n",
            "(Reading database ... 123633 files and directories currently installed.)\n",
            "Preparing to unpack .../libmdb3_1.0.0+dfsg-1_amd64.deb ...\n",
            "Unpacking libmdb3:amd64 (1.0.0+dfsg-1) ...\n",
            "Selecting previously unselected package libmdbsql3:amd64.\n",
            "Preparing to unpack .../libmdbsql3_1.0.0+dfsg-1_amd64.deb ...\n",
            "Unpacking libmdbsql3:amd64 (1.0.0+dfsg-1) ...\n",
            "Selecting previously unselected package mdbtools.\n",
            "Preparing to unpack .../mdbtools_1.0.0+dfsg-1_amd64.deb ...\n",
            "Unpacking mdbtools (1.0.0+dfsg-1) ...\n",
            "Setting up libmdb3:amd64 (1.0.0+dfsg-1) ...\n",
            "Setting up libmdbsql3:amd64 (1.0.0+dfsg-1) ...\n",
            "Setting up mdbtools (1.0.0+dfsg-1) ...\n",
            "Processing triggers for man-db (2.10.2-1) ...\n",
            "Processing triggers for libc-bin (2.35-0ubuntu3.4) ...\n",
            "/sbin/ldconfig.real: /usr/local/lib/libumf.so.0 is not a symbolic link\n",
            "\n",
            "/sbin/ldconfig.real: /usr/local/lib/libtcm_debug.so.1 is not a symbolic link\n",
            "\n",
            "/sbin/ldconfig.real: /usr/local/lib/libhwloc.so.15 is not a symbolic link\n",
            "\n",
            "/sbin/ldconfig.real: /usr/local/lib/libtbbbind.so.3 is not a symbolic link\n",
            "\n",
            "/sbin/ldconfig.real: /usr/local/lib/libtbbmalloc.so.2 is not a symbolic link\n",
            "\n",
            "/sbin/ldconfig.real: /usr/local/lib/libtbbbind_2_0.so.3 is not a symbolic link\n",
            "\n",
            "/sbin/ldconfig.real: /usr/local/lib/libtbb.so.12 is not a symbolic link\n",
            "\n",
            "/sbin/ldconfig.real: /usr/local/lib/libtbbbind_2_5.so.3 is not a symbolic link\n",
            "\n",
            "/sbin/ldconfig.real: /usr/local/lib/libtbbmalloc_proxy.so.2 is not a symbolic link\n",
            "\n",
            "/sbin/ldconfig.real: /usr/local/lib/libtcm.so.1 is not a symbolic link\n",
            "\n",
            "/sbin/ldconfig.real: /usr/local/lib/libur_adapter_level_zero.so.0 is not a symbolic link\n",
            "\n",
            "/sbin/ldconfig.real: /usr/local/lib/libur_adapter_opencl.so.0 is not a symbolic link\n",
            "\n",
            "/sbin/ldconfig.real: /usr/local/lib/libur_loader.so.0 is not a symbolic link\n",
            "\n",
            "Requirement already satisfied: pandas in /usr/local/lib/python3.10/dist-packages (2.2.2)\n",
            "Collecting pyodbc\n",
            "  Downloading pyodbc-5.2.0-cp310-cp310-manylinux_2_17_x86_64.manylinux2014_x86_64.whl.metadata (2.7 kB)\n",
            "Requirement already satisfied: numpy>=1.22.4 in /usr/local/lib/python3.10/dist-packages (from pandas) (1.26.4)\n",
            "Requirement already satisfied: python-dateutil>=2.8.2 in /usr/local/lib/python3.10/dist-packages (from pandas) (2.8.2)\n",
            "Requirement already satisfied: pytz>=2020.1 in /usr/local/lib/python3.10/dist-packages (from pandas) (2024.2)\n",
            "Requirement already satisfied: tzdata>=2022.7 in /usr/local/lib/python3.10/dist-packages (from pandas) (2024.2)\n",
            "Requirement already satisfied: six>=1.5 in /usr/local/lib/python3.10/dist-packages (from python-dateutil>=2.8.2->pandas) (1.17.0)\n",
            "Downloading pyodbc-5.2.0-cp310-cp310-manylinux_2_17_x86_64.manylinux2014_x86_64.whl (336 kB)\n",
            "\u001b[2K   \u001b[90m━━━━━━━━━━━━━━━━━━━━━━━━━━━━━━━━━━━━━━━━\u001b[0m \u001b[32m336.0/336.0 kB\u001b[0m \u001b[31m6.0 MB/s\u001b[0m eta \u001b[36m0:00:00\u001b[0m\n",
            "\u001b[?25hInstalling collected packages: pyodbc\n",
            "Successfully installed pyodbc-5.2.0\n"
          ]
        }
      ],
      "source": [
        "!pip install mdbtools-dev\n",
        "!apt-get install mdbtools\n",
        "!pip install pandas pyodbc\n"
      ]
    },
    {
      "cell_type": "code",
      "source": [
        "from google.colab import drive\n",
        "drive.mount('/content/drive')"
      ],
      "metadata": {
        "colab": {
          "base_uri": "https://localhost:8080/"
        },
        "id": "ZJ7nrX1c3HQJ",
        "outputId": "81f126a3-3a3d-42fd-d13e-bdd4e9beebc9"
      },
      "execution_count": 3,
      "outputs": [
        {
          "output_type": "stream",
          "name": "stdout",
          "text": [
            "Mounted at /content/drive\n"
          ]
        }
      ]
    },
    {
      "cell_type": "code",
      "source": [
        "import sys\n",
        "sys.path.append('/content/drive/MyDrive/Dev/py2/')\n",
        "\n",
        "import pandas as pd\n",
        "from google.colab import files\n",
        "import os\n",
        "import subprocess\n",
        "from io import StringIO  # StringIOを正しくインポート\n",
        "import model.utility.k_analysis_util as k_a_util\n"
      ],
      "metadata": {
        "id": "XBQGTsi1EGkO"
      },
      "execution_count": 4,
      "outputs": []
    },
    {
      "cell_type": "code",
      "source": [
        "\n",
        "# 使用例\n",
        "table_name = 'PredictorVariables'  # テーブル名を指定\n",
        "\n",
        "file_list = [f'kjdb_prediction_cache_{year}.accdb' for year in range(2000, 2025)]\n",
        "years = range(2000, 2025)\n",
        "\n",
        "k_a_util.prepare_pd_on_notebook()\n",
        "print(len(file_list))\n",
        "\n",
        "df_statistics=[]\n",
        "for y in years:\n",
        "  file_name = f\"kjdb_prediction_cache_{year}.accdb\"\n",
        "    filepath = f'/content/drive/MyDrive/Dev/Kjvan/{file_name}'\n",
        "    df_summary = k_a_util.access_file_statistics(filepath, table_name)\n",
        "    columns_to_drop = [ 'key_horse_id', 'desc_horse_no', 'upd', 'upd']\n",
        "    df = df_summary.drop(columns=columns_to_drop)\n",
        "    df_statistics.append(df)\n",
        "    # print(file_name)\n",
        "    # print(df)\n",
        "    # print(\"\")"
      ],
      "metadata": {
        "id": "mVJAN_6AE-sf"
      },
      "execution_count": null,
      "outputs": []
    },
    {
      "cell_type": "code",
      "source": [],
      "metadata": {
        "id": "I3XBPi1qGRRH",
        "colab": {
          "base_uri": "https://localhost:8080/"
        },
        "outputId": "7f937470-d935-42d2-98d9-5824c4d5b763"
      },
      "execution_count": 12,
      "outputs": [
        {
          "output_type": "stream",
          "name": "stdout",
          "text": [
            "      cats_plc   mean    std    min  obj_rank\n",
            "2000    0.0000 3.5961 3.4052 0.0000    0.0000\n",
            "2001    0.0000 3.6620 3.4686 0.0000    0.0000\n",
            "\n",
            "CSVファイルが見つかりませんでした。\n",
            "上記はサンプルデータを用いた実行結果です。\n"
          ]
        }
      ]
    },
    {
      "cell_type": "code",
      "source": [],
      "metadata": {
        "id": "DjnSmw-4nget"
      },
      "execution_count": 11,
      "outputs": []
    }
  ]
}