{
  "nbformat": 4,
  "nbformat_minor": 0,
  "metadata": {
    "colab": {
      "provenance": [],
      "authorship_tag": "ABX9TyONU6aKc4Yzx0f+UTJHoSKR"
    },
    "kernelspec": {
      "name": "python3",
      "display_name": "Python 3"
    },
    "language_info": {
      "name": "python"
    }
  },
  "cells": [
    {
      "cell_type": "code",
      "execution_count": null,
      "metadata": {
        "id": "qNAnYLCu2bwJ"
      },
      "outputs": [],
      "source": [
        "!pip install mdbtools-dev\n",
        "!apt-get install mdbtools\n",
        "!pip install pandas pyodbc\n",
        "!pip install tempfile2\n"
      ]
    },
    {
      "cell_type": "code",
      "source": [
        "from google.colab import drive\n",
        "drive.mount('/content/drive')"
      ],
      "metadata": {
        "colab": {
          "base_uri": "https://localhost:8080/"
        },
        "id": "ZJ7nrX1c3HQJ",
        "outputId": "658e890e-c106-42a6-ef9d-142193501ade"
      },
      "execution_count": 2,
      "outputs": [
        {
          "output_type": "stream",
          "name": "stdout",
          "text": [
            "Mounted at /content/drive\n"
          ]
        }
      ]
    },
    {
      "cell_type": "code",
      "source": [
        "import sys\n",
        "sys.path.append('/content/drive/MyDrive/Dev/py2/')\n",
        "import numpy as np\n",
        "\n",
        "import pandas as pd\n",
        "from google.colab import files\n",
        "import os\n",
        "import subprocess\n",
        "from io import StringIO  # StringIOを正しくインポート\n",
        "import model.utility.k_analysis_util as k_a_util\n",
        "from IPython.display import display"
      ],
      "metadata": {
        "id": "XBQGTsi1EGkO"
      },
      "execution_count": 3,
      "outputs": []
    },
    {
      "cell_type": "code",
      "source": [
        "\n",
        "# 使用例\n",
        "table_name = 'PredictorVariables'  # テーブル名を指定\n",
        "\n",
        "file_list = [f'kjdb_prediction_cache_{year}.accdb' for year in range(2000, 2025)]\n",
        "years = range(2000, 2025)\n",
        "\n",
        "k_a_util.prepare_pd_on_notebook()\n",
        "print(len(file_list))\n",
        "\n",
        "dict_statistics={}\n",
        "for y in years:\n",
        "  filepath = f'/content/drive/MyDrive/Dev/Kjvan/kjdb_prediction_cache_{y}.accdb'\n",
        "  df_summary = k_a_util.access_file_statistics(filepath, table_name)\n",
        "  columns_to_drop = [ 'pv_horse_id', 'pv_horse_no', 'upd','upd_t', 'pv_rank']\n",
        "  df = df_summary.drop(columns=columns_to_drop)\n",
        "  dict_statistics[y] = df"
      ],
      "metadata": {
        "colab": {
          "base_uri": "https://localhost:8080/",
          "height": 110
        },
        "id": "MRyXsKhEzCFj",
        "outputId": "7ef583f9-107c-4bd0-be77-7f5dabce3a1c"
      },
      "execution_count": 4,
      "outputs": [
        {
          "output_type": "error",
          "ename": "SyntaxError",
          "evalue": "unterminated string literal (detected at line 14) (ipython-input-4-4134576044.py, line 14)",
          "traceback": [
            "\u001b[0;36m  File \u001b[0;32m\"/tmp/ipython-input-4-4134576044.py\"\u001b[0;36m, line \u001b[0;32m14\u001b[0m\n\u001b[0;31m    columns_to_drop = [ 'pv_horse_id', 'pv_horse_no', 'upd, 'upd_t', 'pv_rank']\u001b[0m\n\u001b[0m                                                                             ^\u001b[0m\n\u001b[0;31mSyntaxError\u001b[0m\u001b[0;31m:\u001b[0m unterminated string literal (detected at line 14)\n"
          ]
        }
      ]
    },
    {
      "cell_type": "code",
      "source": [
        "# CSVファイルから読み込む場合の例 (3つのファイルを読み込む例に変更)\n",
        "try:\n",
        "    row_list =  ['mean', 'min',  '25%', '50%', '75%', 'max']\n",
        "    dict_results = k_a_util.transpose_statistics_to_df(dict_statistics, row_list)\n",
        "    for stat, df in dict_results.items():\n",
        "      print(stat)\n",
        "      display(df)\n",
        "\n",
        "except FileNotFoundError as e:\n",
        "    print(f\"\\nCSVファイルが見つかりませんでした: {e}\")\n",
        "    print(\"上記はサンプルデータを用いた実行結果です。\")\n",
        "except pd.errors.EmptyDataError as e:\n",
        "    print(f\"\\nCSVファイルが空です: {e}\")\n",
        "    print(\"上記はサンプルデータを用いた実行結果です。\")\n",
        "except Exception as e:  # その他の例外をキャッチ\n",
        "    print(f\"\\nCSVファイルの処理中にエラーが発生しました: {e}\")\n",
        "    print(\"上記はサンプルデータを用いた実行結果です。\")\n"
      ],
      "metadata": {
        "id": "DjnSmw-4nget"
      },
      "execution_count": null,
      "outputs": []
    },
    {
      "cell_type": "code",
      "source": [],
      "metadata": {
        "id": "fZcJezsvFYuH"
      },
      "execution_count": null,
      "outputs": []
    }
  ]
}