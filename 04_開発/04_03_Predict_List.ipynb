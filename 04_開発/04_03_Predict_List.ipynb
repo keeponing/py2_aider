{
  "cells": [
    {
      "cell_type": "code",
      "execution_count": 55,
      "metadata": {
        "colab": {
          "base_uri": "https://localhost:8080/"
        },
        "id": "qNAnYLCu2bwJ",
        "outputId": "f4c5490e-e976-4184-b00f-bd82a412641d"
      },
      "outputs": [
        {
          "output_type": "stream",
          "name": "stdout",
          "text": [
            "\u001b[1;31mE: \u001b[0mInvalid operation updateapt\u001b[0m\n",
            "\u001b[31mERROR: Could not find a version that satisfies the requirement mdbtools-dev (from versions: none)\u001b[0m\u001b[31m\n",
            "\u001b[0m\u001b[31mERROR: No matching distribution found for mdbtools-dev\u001b[0m\u001b[31m\n",
            "Reading package lists... Done\n",
            "Building dependency tree... Done\n",
            "Reading state information... Done\n",
            "mdbtools is already the newest version (1.0.0+dfsg-1).\n",
            "0 upgraded, 0 newly installed, 0 to remove and 49 not upgraded.\n",
            "Requirement already satisfied: pandas in /usr/local/lib/python3.10/dist-packages (2.2.2)\n",
            "Requirement already satisfied: pyodbc in /usr/local/lib/python3.10/dist-packages (5.2.0)\n",
            "Requirement already satisfied: numpy>=1.22.4 in /usr/local/lib/python3.10/dist-packages (from pandas) (1.26.4)\n",
            "Requirement already satisfied: python-dateutil>=2.8.2 in /usr/local/lib/python3.10/dist-packages (from pandas) (2.8.2)\n",
            "Requirement already satisfied: pytz>=2020.1 in /usr/local/lib/python3.10/dist-packages (from pandas) (2024.2)\n",
            "Requirement already satisfied: tzdata>=2022.7 in /usr/local/lib/python3.10/dist-packages (from pandas) (2024.2)\n",
            "Requirement already satisfied: six>=1.5 in /usr/local/lib/python3.10/dist-packages (from python-dateutil>=2.8.2->pandas) (1.17.0)\n",
            "Requirement already satisfied: pymssql in /usr/local/lib/python3.10/dist-packages (2.3.2)\n",
            "Requirement already satisfied: tempfile2 in /usr/local/lib/python3.10/dist-packages (0.1.2)\n"
          ]
        }
      ],
      "source": [
        "\n",
        "!apt updateapt update\n",
        "!pip install mdbtools-dev\n",
        "!apt-get install mdbtools\n",
        "!pip install pandas pyodbc\n",
        "!pip install pymssql\n",
        "!pip install tempfile2\n",
        "import warnings\n",
        "warnings.filterwarnings('ignore')"
      ]
    },
    {
      "cell_type": "code",
      "execution_count": 56,
      "metadata": {
        "colab": {
          "base_uri": "https://localhost:8080/"
        },
        "id": "ZJ7nrX1c3HQJ",
        "outputId": "d841dccb-217a-4866-9295-ff4a2a36c5ae"
      },
      "outputs": [
        {
          "output_type": "stream",
          "name": "stdout",
          "text": [
            "Drive already mounted at /content/drive; to attempt to forcibly remount, call drive.mount(\"/content/drive\", force_remount=True).\n"
          ]
        }
      ],
      "source": [
        "from google.colab import drive\n",
        "drive.mount('/content/drive')"
      ]
    },
    {
      "cell_type": "code",
      "execution_count": 57,
      "metadata": {
        "id": "XBQGTsi1EGkO"
      },
      "outputs": [],
      "source": [
        "import sys\n",
        "sys.path.append('/content/drive/MyDrive/Dev/py2/')\n",
        "import numpy as np\n",
        "\n",
        "import pandas as pd\n",
        "from google.colab import files\n",
        "import os\n",
        "import subprocess\n",
        "from io import StringIO  # StringIOを正しくインポート\n",
        "import model.utility.k_analysis_util as k_a_util\n",
        "from IPython.display import display\n",
        "\n",
        "from google.colab import drive\n",
        "import matplotlib.pyplot as plt\n",
        "import seaborn as sns\n",
        "\n",
        "import model.utility.k_analysis_util as k_analysis_util"
      ]
    },
    {
      "cell_type": "code",
      "source": [
        "db_path = \"/content/drive/MyDrive/Dev/Kjvan/kjdb_predict_result.accdb\"\n"
      ],
      "metadata": {
        "id": "0WYBZkdSwuz2"
      },
      "execution_count": 58,
      "outputs": []
    },
    {
      "cell_type": "markdown",
      "source": [],
      "metadata": {
        "id": "o9gz-834zQc-"
      }
    },
    {
      "cell_type": "code",
      "source": [
        "\n",
        "cmd = f\"select * from PredictResults\"\n",
        "print(cmd)"
      ],
      "metadata": {
        "colab": {
          "base_uri": "https://localhost:8080/"
        },
        "id": "YmdWEneVyxH1",
        "outputId": "f99b4d02-fd36-48b1-b514-07d68fbface0"
      },
      "execution_count": 59,
      "outputs": [
        {
          "output_type": "stream",
          "name": "stdout",
          "text": [
            "select * from PredictResults\n"
          ]
        }
      ]
    },
    {
      "cell_type": "code",
      "source": [
        "df_re = k_analysis_util.execute_mdb_sql(db_path, cmd)"
      ],
      "metadata": {
        "id": "Tb3I_X94awYe",
        "outputId": "257b320b-354e-4a5d-f551-f5b3e07ba11c",
        "colab": {
          "base_uri": "https://localhost:8080/"
        }
      },
      "execution_count": 60,
      "outputs": [
        {
          "output_type": "stream",
          "name": "stdout",
          "text": [
            "Query output saved to: /tmp/tmpgl4az8u_.txt\n"
          ]
        }
      ]
    },
    {
      "cell_type": "code",
      "source": [
        "# import pandas as pd\n",
        "# import matplotlib.pyplot as plt\n",
        "\n",
        "\n",
        "# # bt_place、bt_distance、bt_track_cdでグループ化\n",
        "# grouped = df_re.groupby(['pr_program_id', 'pr_race'])\n",
        "\n",
        "# # 各グループごとに箱ひげ図を描画\n",
        "# for group_name, group_df in grouped:\n",
        "#     plt.figure()\n",
        "#     group_df.drop([ 'pr_program_id', 'pr_race', 'pr_horse_id', 'pr_odds', 'pr_vote', 'pr_rank'], axis=1).boxplot()\n",
        "#     plt.title(f'Group: {group_name}')\n",
        "#     plt.show()\n"
      ],
      "metadata": {
        "id": "Ob5VYXPC_4oa"
      },
      "execution_count": 61,
      "outputs": []
    },
    {
      "cell_type": "code",
      "source": [
        "# #prompt: 以下のコードで行の表示を'pr_horse_id'-'pr_vote'の表記に変更してください\n",
        "# import warnings\n",
        "# from google.colab import drive\n",
        "# import sys\n",
        "# import numpy as np\n",
        "# import pandas as pd\n",
        "# from google.colab import files\n",
        "# import os\n",
        "# import subprocess\n",
        "# from io import StringIO  # StringIOを正しくインポート\n",
        "# from IPython.display import display\n",
        "# import matplotlib.pyplot as plt\n",
        "# import seaborn as sns\n",
        "# import model.utility.k_analysis_util as k_analysis_util\n",
        "\n",
        "# # bt_place、bt_distance、bt_track_cdでグループ化\n",
        "# grouped = df_re.groupby(['pr_program_id', 'pr_race'])\n",
        "\n",
        "# # 各グループごとにヒートマップを描画\n",
        "# for (program_id, race), group_df in grouped:\n",
        "#     #group_df['pr_rank'] = group_df['pr_rank'].replace('00', '99')\n",
        "#     query = f\"pr_rank.astype('int') != 0\"\n",
        "#     group_df2 = group_df.query(query, engine='python')\n",
        "#     # pr_rankでソート\n",
        "#     sorted_group_df = group_df2.sort_values('pr_rank')\n",
        "\n",
        "\n",
        "#     # 'pr_horse_id'-'pr_vote' の列を作成\n",
        "#     sorted_group_df['pr_horse_id-pr_vote'] = sorted_group_df['pr_horse_id'].astype(str) + '-' + sorted_group_df['pr_vote'].astype(str).str.zfill(2)  # 2桁の0詰め\n",
        "\n",
        "#     # ヒートマップのデータ作成\n",
        "#     # 'pr_horse_id' を 'pr_horse_id-pr_vote' に変更\n",
        "#     heatmap_data = sorted_group_df[['pr_horse_id-pr_vote', 'pr_h1_pred', 'pr_h2_pred', 'pr_h3_pred', 'pr_h4_pred', 'pr_hE_pred']]\n",
        "#     heatmap_data = heatmap_data.set_index('pr_horse_id-pr_vote')\n",
        "#     heatmap_data = heatmap_data.rename(columns={\n",
        "#         'pr_h1_pred': 'mlp',\n",
        "#         'pr_h2_pred': 'cat',\n",
        "#         'pr_h3_pred': 'amt',\n",
        "#         'pr_h4_pred': 'bld',\n",
        "#         'pr_hE_pred': 'ens',\n",
        "#     })\n",
        "\n",
        "#     plt.figure(figsize=(10, 6))  # 図のサイズ調整\n",
        "#     sns.heatmap(heatmap_data, annot=True, fmt=\".2f\", cmap=\"coolwarm\", center=0) # center=0でグレーを中央に\n",
        "#     plt.title(f'Heatmap for Program ID: {program_id}, Race: {race}')\n",
        "#     plt.show()\n"
      ],
      "metadata": {
        "id": "fLaza1FJ7EAV"
      },
      "execution_count": 62,
      "outputs": []
    },
    {
      "cell_type": "code",
      "source": [
        "import warnings\n",
        "from google.colab import drive\n",
        "import sys\n",
        "import numpy as np\n",
        "import pandas as pd\n",
        "from google.colab import files\n",
        "import os\n",
        "import subprocess\n",
        "from io import StringIO\n",
        "from IPython.display import display\n",
        "import matplotlib.pyplot as plt\n",
        "import seaborn as sns\n",
        "import model.utility.k_analysis_util as k_analysis_util\n",
        "\n",
        "# 表示オプションの設定\n",
        "pd.set_option('display.max_colwidth', 1)  # 各列の最大表示幅を10に設定\n",
        "# 表示オプションの設定\n",
        "pd.set_option('display.max_colwidth', 1)\n",
        "\n",
        "# カスタムカラーマップの作成\n",
        "colors = [\n",
        "    (255/255, 242/255, 242/255),  # #FFF2F2 - ほぼ白\n",
        "    (255/255, 230/255, 230/255),  # #FFE6E6 - 非常に薄い赤 (90%)\n",
        "    (255/255, 217/255, 217/255),  # #FFD9D9 - 非常に薄い赤 (85%)\n",
        "    (255/255, 204/255, 204/255),  # #FFCCCC - 非常に薄い赤 (80%)\n",
        "    (255/255, 179/255, 179/255),  # #FFB3B3 - 薄い赤 (70%)\n",
        "    (255/255, 153/255, 153/255),  # #FF9999 - 薄い赤 (60%)\n",
        "    (255/255, 102/255, 102/255),  # #FF6666 - 薄い赤 (40%)\n",
        "    (255/255, 51/255, 51/255),    # #FF3333 - 薄い赤 (20%)\n",
        "    (255/255, 0/255, 0/255),      # #FF0000 - 純粋な赤\n",
        "    (64/255, 64/255, 64/255),     # #404040 - 調整された色\n",
        "]\n",
        "custom_cmap = sns.blend_palette(colors, as_cmap=True)\n",
        "# bt_place、bt_distance、bt_track_cdでグループ化\n",
        "grouped = df_re.groupby(['pr_program_id', 'pr_race'])\n",
        "\n",
        "# 各グループごとにヒートマップを描画\n",
        "for (program_id, race), group_df in grouped:\n",
        "    query = f\"pr_rank.astype('int') != 0\"\n",
        "    group_df2 = group_df.query(query, engine='python')\n",
        "    # pr_rankでソート\n",
        "    sorted_group_df = group_df2.sort_values('pr_rank')\n",
        "\n",
        "    # 'pr_horse_id-pr_vote' の列を作成\n",
        "    sorted_group_df['pr_horse_id-pr_vote'] = sorted_group_df['pr_horse_id'].astype(str) + '-' + sorted_group_df['pr_vote'].astype(str).str.zfill(2)  # 2桁の0詰め\n",
        "\n",
        "    # ヒートマップのデータ作成\n",
        "    heatmap_data = sorted_group_df[['pr_horse_id-pr_vote', 'pr_h1_pred', 'pr_h2_pred', 'pr_h3_pred', 'pr_h4_pred', 'pr_hE_pred']]\n",
        "    heatmap_data = heatmap_data.set_index('pr_horse_id-pr_vote')\n",
        "    heatmap_data = heatmap_data.rename(columns={\n",
        "        'pr_h1_pred': 'mlp',\n",
        "        'pr_h2_pred': 'cat',\n",
        "        'pr_h3_pred': 'amt',\n",
        "        'pr_h4_pred': 'bld',\n",
        "        'pr_hE_pred': 'ens',\n",
        "    })\n",
        "\n",
        "    plt.figure(figsize=(4, 4))  # 図のサイズ調整\n",
        "    ax = sns.heatmap(heatmap_data, annot=True, fmt=\".1f\", cmap=custom_cmap, center=0, cbar=False)\n",
        "    ax.xaxis.set_ticks_position('top')     # 目盛りを上部に\n",
        "    ax.xaxis.set_label_position('top')     # ラベルを上部に\n",
        "    plt.title(f'{program_id}, Race: {race}')\n",
        "    plt.ylabel('')\n",
        "    plt.tight_layout()\n",
        "    plt.show()\n"
      ],
      "metadata": {
        "collapsed": true,
        "id": "q8-0BNP8Q3Fg"
      },
      "execution_count": null,
      "outputs": []
    }
  ],
  "metadata": {
    "colab": {
      "provenance": []
    },
    "kernelspec": {
      "display_name": "Python 3",
      "name": "python3"
    },
    "language_info": {
      "name": "python"
    }
  },
  "nbformat": 4,
  "nbformat_minor": 0
}