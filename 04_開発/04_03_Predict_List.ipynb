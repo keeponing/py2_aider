{
  "cells": [
    {
      "cell_type": "code",
      "execution_count": 55,
      "metadata": {
        "colab": {
          "base_uri": "https://localhost:8080/"
        },
        "id": "qNAnYLCu2bwJ",
        "outputId": "41b89666-9cbc-487e-a12f-2b3f4b054b1f"
      },
      "outputs": [
        {
          "output_type": "stream",
          "name": "stdout",
          "text": [
            "\u001b[1;31mE: \u001b[0mInvalid operation updateapt\u001b[0m\n",
            "\u001b[31mERROR: Could not find a version that satisfies the requirement mdbtools-dev (from versions: none)\u001b[0m\u001b[31m\n",
            "\u001b[0m\u001b[31mERROR: No matching distribution found for mdbtools-dev\u001b[0m\u001b[31m\n",
            "Reading package lists... Done\n",
            "Building dependency tree... Done\n",
            "Reading state information... Done\n",
            "mdbtools is already the newest version (1.0.0+dfsg-1).\n",
            "0 upgraded, 0 newly installed, 0 to remove and 22 not upgraded.\n",
            "Requirement already satisfied: pandas in /usr/local/lib/python3.11/dist-packages (2.2.2)\n",
            "Requirement already satisfied: pyodbc in /usr/local/lib/python3.11/dist-packages (5.2.0)\n",
            "Requirement already satisfied: numpy>=1.23.2 in /usr/local/lib/python3.11/dist-packages (from pandas) (1.26.4)\n",
            "Requirement already satisfied: python-dateutil>=2.8.2 in /usr/local/lib/python3.11/dist-packages (from pandas) (2.8.2)\n",
            "Requirement already satisfied: pytz>=2020.1 in /usr/local/lib/python3.11/dist-packages (from pandas) (2025.1)\n",
            "Requirement already satisfied: tzdata>=2022.7 in /usr/local/lib/python3.11/dist-packages (from pandas) (2025.1)\n",
            "Requirement already satisfied: six>=1.5 in /usr/local/lib/python3.11/dist-packages (from python-dateutil>=2.8.2->pandas) (1.17.0)\n",
            "Requirement already satisfied: pymssql in /usr/local/lib/python3.11/dist-packages (2.3.2)\n",
            "Requirement already satisfied: tempfile2 in /usr/local/lib/python3.11/dist-packages (0.1.2)\n",
            "Requirement already satisfied: japanize-matplotlib in /usr/local/lib/python3.11/dist-packages (1.1.3)\n",
            "Requirement already satisfied: matplotlib in /usr/local/lib/python3.11/dist-packages (from japanize-matplotlib) (3.10.0)\n",
            "Requirement already satisfied: contourpy>=1.0.1 in /usr/local/lib/python3.11/dist-packages (from matplotlib->japanize-matplotlib) (1.3.1)\n",
            "Requirement already satisfied: cycler>=0.10 in /usr/local/lib/python3.11/dist-packages (from matplotlib->japanize-matplotlib) (0.12.1)\n",
            "Requirement already satisfied: fonttools>=4.22.0 in /usr/local/lib/python3.11/dist-packages (from matplotlib->japanize-matplotlib) (4.56.0)\n",
            "Requirement already satisfied: kiwisolver>=1.3.1 in /usr/local/lib/python3.11/dist-packages (from matplotlib->japanize-matplotlib) (1.4.8)\n",
            "Requirement already satisfied: numpy>=1.23 in /usr/local/lib/python3.11/dist-packages (from matplotlib->japanize-matplotlib) (1.26.4)\n",
            "Requirement already satisfied: packaging>=20.0 in /usr/local/lib/python3.11/dist-packages (from matplotlib->japanize-matplotlib) (24.2)\n",
            "Requirement already satisfied: pillow>=8 in /usr/local/lib/python3.11/dist-packages (from matplotlib->japanize-matplotlib) (11.1.0)\n",
            "Requirement already satisfied: pyparsing>=2.3.1 in /usr/local/lib/python3.11/dist-packages (from matplotlib->japanize-matplotlib) (3.2.1)\n",
            "Requirement already satisfied: python-dateutil>=2.7 in /usr/local/lib/python3.11/dist-packages (from matplotlib->japanize-matplotlib) (2.8.2)\n",
            "Requirement already satisfied: six>=1.5 in /usr/local/lib/python3.11/dist-packages (from python-dateutil>=2.7->matplotlib->japanize-matplotlib) (1.17.0)\n"
          ]
        }
      ],
      "source": [
        "\n",
        "!apt updateapt update\n",
        "!pip install mdbtools-dev\n",
        "!apt-get install mdbtools\n",
        "!pip install pandas pyodbc\n",
        "!pip install pymssql\n",
        "!pip install tempfile2\n",
        "!pip install japanize-matplotlib\n",
        "import warnings\n",
        "warnings.filterwarnings('ignore')"
      ]
    },
    {
      "cell_type": "code",
      "execution_count": 56,
      "metadata": {
        "colab": {
          "base_uri": "https://localhost:8080/"
        },
        "id": "ZJ7nrX1c3HQJ",
        "outputId": "b6c58521-5efc-4a94-a5d1-b121ca794eca"
      },
      "outputs": [
        {
          "output_type": "stream",
          "name": "stdout",
          "text": [
            "Drive already mounted at /content/drive; to attempt to forcibly remount, call drive.mount(\"/content/drive\", force_remount=True).\n"
          ]
        }
      ],
      "source": [
        "from google.colab import drive\n",
        "drive.mount('/content/drive')"
      ]
    },
    {
      "cell_type": "code",
      "execution_count": 57,
      "metadata": {
        "id": "XBQGTsi1EGkO"
      },
      "outputs": [],
      "source": [
        "import sys\n",
        "sys.path.append('/content/drive/MyDrive/Dev/py2/')\n",
        "import numpy as np\n",
        "\n",
        "import pandas as pd\n",
        "from google.colab import files\n",
        "import os\n",
        "import subprocess\n",
        "from io import StringIO  # StringIOを正しくインポート\n",
        "import model.utility.k_analysis_util as k_a_util\n",
        "import model.utility.k_analysis_util as k_analysis_util\n",
        "from IPython.display import display\n",
        "import datetime\n",
        "import matplotlib.pyplot as plt\n",
        "import seaborn as sns\n",
        "import japanize_matplotlib"
      ]
    },
    {
      "cell_type": "code",
      "source": [
        "def query_re_records_by_y(y):\n",
        "  db_path = f\"/content/drive/MyDrive/Dev/Kjvan/kjdb_prediction_cache_{y}.accdb\"\n",
        "  cmd = \"\"\"select * from HorseResult\n",
        "  \"\"\"\n",
        " # where rr_r_id='{program_id}' and rr_r_race='{race_no}\n",
        "  return k_analysis_util.execute_mdb_sql(db_path, cmd)\n"
      ],
      "metadata": {
        "id": "mWvjLbhcI5bG"
      },
      "execution_count": 58,
      "outputs": []
    },
    {
      "cell_type": "code",
      "source": [
        "db_path = \"/content/drive/MyDrive/Dev/Kjvan/kjdb_predict_result.accdb\"\n",
        "today = datetime.datetime.now()"
      ],
      "metadata": {
        "id": "0WYBZkdSwuz2"
      },
      "execution_count": 59,
      "outputs": []
    },
    {
      "cell_type": "markdown",
      "source": [],
      "metadata": {
        "id": "o9gz-834zQc-"
      }
    },
    {
      "cell_type": "code",
      "source": [
        "sort_key ='pr_rank'\n",
        "#sort_key ='pr_hE_pred'\n",
        "ascending=True\n",
        "cmd = f\"select * from PredictResults\"\n",
        "df_pr = k_analysis_util.execute_mdb_sql(db_path, cmd)"
      ],
      "metadata": {
        "colab": {
          "base_uri": "https://localhost:8080/"
        },
        "id": "YmdWEneVyxH1",
        "outputId": "325615da-6e28-4cbb-9d33-6322a2b3e1c7"
      },
      "execution_count": 60,
      "outputs": [
        {
          "output_type": "stream",
          "name": "stdout",
          "text": [
            "Query output saved to: /tmp/tmpk60mn29m.txt\n"
          ]
        }
      ]
    },
    {
      "cell_type": "code",
      "source": [
        "# まず'pr_program_id'を文字列型に変換\n",
        "df_pr['pr_program_id'] = df_pr['pr_program_id'].astype(str)\n",
        "\n",
        "# その後、文字列抽出と数値変換を実行\n",
        "df_pr = df_pr[df_pr['pr_program_id'].str[4:6].astype(int) >= today.month]\n",
        "\n",
        "df_pr['pr_program_id'] = df_pr['pr_program_id'].astype(str)\n",
        "df_pr['pr_horse_id'] = df_pr['pr_horse_id'].astype(str)\n",
        "#df_pr=df_filtered"
      ],
      "metadata": {
        "id": "Tb3I_X94awYe"
      },
      "execution_count": 61,
      "outputs": []
    },
    {
      "cell_type": "code",
      "source": [
        "print(df_pr.head())"
      ],
      "metadata": {
        "id": "R4L8dN7fkvZj",
        "outputId": "938f3c1f-913f-45f9-9b2f-3fdb749e763e",
        "colab": {
          "base_uri": "https://localhost:8080/"
        }
      },
      "execution_count": 84,
      "outputs": [
        {
          "output_type": "stream",
          "name": "stdout",
          "text": [
            "     pr_program_id  pr_horse_id  pr_rank  pr_h1_pred  pr_h2_pred  pr_h3_pred  \\\n",
            "3243  2025020105    2022100485   0        0.0044      0.1457      0.2422       \n",
            "3244  2025020105    2022100749   0        0.1445      0.5082      0.0320       \n",
            "3245  2025020105    2022103030   0        0.0081      0.0393      0.0302       \n",
            "3246  2025020105    2022103259   0        0.0135      0.1538      0.0993       \n",
            "3247  2025020105    2022103340   0        0.0155      0.0228      0.1072       \n",
            "\n",
            "      pr_h4_pred  pr_hE_pred  upd  pr_race pr_odds pr_vote  \n",
            "3243  0.0         0.07505     1    1        1866    15      \n",
            "3244  0.0         0.32635     1    1        0075    03      \n",
            "3245  0.0         0.02370     1    1        1926    16      \n",
            "3246  0.0         0.08365     1    1        0737    10      \n",
            "3247  0.0         0.01915     1    1        1126    12      \n"
          ]
        }
      ]
    },
    {
      "cell_type": "code",
      "source": [
        "\n",
        "\n",
        "# 表示オプションの設定\n",
        "pd.set_option('display.max_colwidth', 1)  # 各列の最大表示幅を10に設定\n",
        "\n",
        "# カスタムカラーマップの作成\n",
        "colors = [\n",
        "    (255/255, 255/255, 255/255),  # #FFF2F2 - ほぼ白\n",
        "    # (255/255, 230/255, 230/255),  # #FFE6E6 - 非常に薄い赤 (90%)\n",
        "    # (255/255, 217/255, 217/255),  # #FFD9D9 - 非常に薄い赤 (85%)\n",
        "    (255/255, 204/255, 204/255),  # #FFCCCC - 非常に薄い赤 (80%)\n",
        "    (255/255, 179/255, 179/255),  # #FFB3B3 - 薄い赤 (70%)\n",
        "    (255/255, 153/255, 153/255),  # #FF9999 - 薄い赤 (60%)\n",
        "    (255/255, 128/255, 128/255),  # #FF8080 - 薄い赤 (50%)\n",
        "    (255/255, 102/255, 102/255),  # #FF6666 - 薄い赤 (40%)\n",
        "    (255/255, 51/255, 51/255),    # #FF3333 - 薄い赤 (20%)\n",
        "    (255/255, 0/255, 0/255),      # #FF0000 - 純粋な赤\n",
        "    (204/255, 0/255, 0/255),      # #CC0000 - 赤\n",
        "]\n",
        "custom_cmap = sns.blend_palette(colors, as_cmap=True)\n",
        "# bt_place、bt_distance、bt_track_cdでグループ化\n",
        "grouped = df_pr.groupby(['pr_program_id', 'pr_race'])"
      ],
      "metadata": {
        "id": "Meqcy9wLOY73"
      },
      "execution_count": 62,
      "outputs": []
    },
    {
      "cell_type": "code",
      "source": [
        "\n",
        "\n",
        "# 各グループごとにヒートマップを描画\n",
        "dict_re={}\n",
        "for (program_id, race_no), group_df in grouped:\n",
        "    try:\n",
        "      y = program_id[:4]\n",
        "      query = f\"pr_rank.astype('int') != 0\"\n",
        "      group_df2 = group_df.query(query, engine='python')\n",
        "      if(len(group_df2)):\n",
        "        df_re = None\n",
        "        if( y in  dict_re.keys()):\n",
        "          df_re = dict_re[y]\n",
        "        else:\n",
        "\n",
        "          df_re = query_re_records_by_y(y)\n",
        "          df_re['rr_r_id'] = df_re['rr_r_id'].astype(str)\n",
        "          df_re['rr_r_horse_id'] = df_re['rr_r_horse_id'].astype(str)\n",
        "          df_re['rr_r_horse_name'] = df_re['rr_r_horse_name'].astype(str)\n",
        "\n",
        "          dict_re[y] = df_re\n",
        "\n",
        "\n",
        "        # pr_rankでソート\n",
        "        sorted_group_df = group_df2\n",
        "\n",
        "        #sorted_group_df = group_df2.sort_values(sort_key, ascending = ascending)\n",
        "\n",
        "        # 'pr_horse_id-pr_vote' の列を作成\n",
        "        # print(\"--- マージ前のデータ型確認 ---\")\n",
        "        # print(\"\\nsorted_group_df の型情報:\")\n",
        "        # print(\"pr_program_id の型:\", sorted_group_df['pr_program_id'].dtype)\n",
        "        # print(\"pr_horse_id の型:\", sorted_group_df['pr_horse_id'].dtype)\n",
        "\n",
        "        # print(\"\\ndf_re の型情報:\")\n",
        "        # print(\"rr_r_id の型:\", df_re['rr_r_id'].dtype)\n",
        "        # print(\"rr_r_horse_id の型:\", df_re['rr_r_horse_id'].dtype)\n",
        "        sorted_group_df2 = pd.merge(sorted_group_df, df_re,\n",
        "              left_on=['pr_program_id','pr_horse_id'],\n",
        "              right_on=['rr_r_id','rr_r_horse_id'],\n",
        "              how='inner')\n",
        "        if(len(sorted_group_df2)):\n",
        "          sorted_group_df2.head()\n",
        "          # sorted_group_df2['pr_horse_id-pr_vote'] = sorted_group_df2['pr_horse_id'].astype(str) + '-'+ sorted_group_df2['pr_vote'].astype(str).str.zfill(2) + '-'+ sorted_group_df2['pr_rank'].astype(str).str.zfill(2)\n",
        "          # sorted_group_df2 = sorted_group_df2.sort_values(sort_key, ascending = ascending)\n",
        "          # # ヒートマップのデータ作成\n",
        "          # heatmap_data = sorted_group_df2[['pr_horse_id-pr_vote', 'pr_h1_pred', 'pr_h2_pred', 'pr_h3_pred', 'pr_h4_pred', 'pr_hE_pred']]\n",
        "          # heatmap_data = heatmap_data.set_index('pr_horse_id-pr_vote')\n",
        "          # heatmap_data = heatmap_data.rename(columns={\n",
        "          #     'pr_h1_pred': 'mlp',\n",
        "          #     'pr_h2_pred': 'cat',\n",
        "          #     'pr_h3_pred': 'amt',\n",
        "          #     'pr_h4_pred': 'bld',\n",
        "          #     'pr_hE_pred': 'ens',\n",
        "          # })\n",
        "          # m = program_id[4:6]\n",
        "          # plt.figure(figsize=(4, 4))  # 図のサイズ調整\n",
        "          # ax = sns.heatmap(heatmap_data, annot=True, fmt=\".1f\", cmap='coolwarm', center=0, cbar=False)\n",
        "          # ax.xaxis.set_ticks_position('top')     # 目盛りを上部に\n",
        "          # ax.xaxis.set_label_position('top')     # ラベルを上部に\n",
        "          # plt.title(f'{program_id}  Race: {race_no}')\n",
        "          # plt.ylabel('')\n",
        "          # plt.tight_layout()\n",
        "          # plt.show()\n",
        "    except Exception as e:\n",
        "      print(e)\n"
      ],
      "metadata": {
        "collapsed": true,
        "id": "q8-0BNP8Q3Fg",
        "colab": {
          "base_uri": "https://localhost:8080/"
        },
        "outputId": "cbb3a31e-d887-4649-f50a-131492d89318"
      },
      "execution_count": 83,
      "outputs": [
        {
          "output_type": "stream",
          "name": "stdout",
          "text": [
            "Query output saved to: /tmp/tmp7u7vdlz3.txt\n",
            "2025       rr_r_id  rr_r_race rr_r_horse_id rr_r_horse_name  rr_r_horse_no  \\\n",
            "0  2025010506  1          2022100076    ダイチラポール         12              \n",
            "1  2025010506  1          2022100105    タッカーバリアント       4               \n",
            "2  2025010506  1          2022101022    ジルクン            2               \n",
            "3  2025010506  1          2022101055    カツノトゥウェルヴ       16              \n",
            "4  2025010506  1          2022101692    コナベイション         7               \n",
            "\n",
            "   rr_r_rank  rr_r_waku  rr_r_blinker  rr_r_j_mark  rr_r_age  ...  \\\n",
            "0  5          6          0             3            3         ...   \n",
            "1  8          2          0             0            3         ...   \n",
            "2  6          1          0             4            3         ...   \n",
            "3  13         8          0             0            3         ...   \n",
            "4  9          4          0             0            3         ...   \n",
            "\n",
            "   rr_m_blood12  rr_m_blood13 rr_m_blood14  rr_a_deviation rr_a_deviation3f  \\\n",
            "0  1240016657    1140002676    1240014271   0.841852        0.670436          \n",
            "1  1220026430    1120000507    1220027365   0.786691        0.670436          \n",
            "2  1240016781    1140002540    1240027332   0.824877        0.955034          \n",
            "3  1220036137    1140004523    1240023406   0.429191        0.779384          \n",
            "4  1220046328    1140003166    1240026076   0.765445        0.573516          \n",
            "\n",
            "   rr_a_race_count  rr_r_err  upd  rr_r_breeder_code  upd_t  \n",
            "0  4                0         3    71005100          NaN     \n",
            "1  2                0         3    60004900          NaN     \n",
            "2  3                0         3    59306200          NaN     \n",
            "3  1                0         3    334100            NaN     \n",
            "4  1                0         3    81154000          NaN     \n",
            "\n",
            "[5 rows x 69 columns]\n"
          ]
        }
      ]
    },
    {
      "cell_type": "code",
      "source": [],
      "metadata": {
        "id": "ILwbB9HfN64U"
      },
      "execution_count": 63,
      "outputs": []
    }
  ],
  "metadata": {
    "colab": {
      "provenance": []
    },
    "kernelspec": {
      "display_name": "Python 3",
      "name": "python3"
    },
    "language_info": {
      "name": "python"
    }
  },
  "nbformat": 4,
  "nbformat_minor": 0
}