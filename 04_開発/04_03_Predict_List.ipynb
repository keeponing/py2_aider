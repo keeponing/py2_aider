{
  "cells": [
    {
      "cell_type": "code",
      "execution_count": 40,
      "metadata": {
        "colab": {
          "base_uri": "https://localhost:8080/"
        },
        "id": "qNAnYLCu2bwJ",
        "outputId": "632e57f3-a436-482c-94b9-92c373677860"
      },
      "outputs": [
        {
          "output_type": "stream",
          "name": "stdout",
          "text": [
            "\u001b[1;31mE: \u001b[0mInvalid operation updateapt\u001b[0m\n",
            "\u001b[31mERROR: Could not find a version that satisfies the requirement mdbtools-dev (from versions: none)\u001b[0m\u001b[31m\n",
            "\u001b[0m\u001b[31mERROR: No matching distribution found for mdbtools-dev\u001b[0m\u001b[31m\n",
            "Reading package lists... Done\n",
            "Building dependency tree... Done\n",
            "Reading state information... Done\n",
            "mdbtools is already the newest version (1.0.0+dfsg-1).\n",
            "0 upgraded, 0 newly installed, 0 to remove and 22 not upgraded.\n",
            "Requirement already satisfied: pandas in /usr/local/lib/python3.11/dist-packages (2.2.2)\n",
            "Requirement already satisfied: pyodbc in /usr/local/lib/python3.11/dist-packages (5.2.0)\n",
            "Requirement already satisfied: numpy>=1.23.2 in /usr/local/lib/python3.11/dist-packages (from pandas) (1.26.4)\n",
            "Requirement already satisfied: python-dateutil>=2.8.2 in /usr/local/lib/python3.11/dist-packages (from pandas) (2.8.2)\n",
            "Requirement already satisfied: pytz>=2020.1 in /usr/local/lib/python3.11/dist-packages (from pandas) (2025.1)\n",
            "Requirement already satisfied: tzdata>=2022.7 in /usr/local/lib/python3.11/dist-packages (from pandas) (2025.1)\n",
            "Requirement already satisfied: six>=1.5 in /usr/local/lib/python3.11/dist-packages (from python-dateutil>=2.8.2->pandas) (1.17.0)\n",
            "Requirement already satisfied: pymssql in /usr/local/lib/python3.11/dist-packages (2.3.2)\n",
            "Requirement already satisfied: tempfile2 in /usr/local/lib/python3.11/dist-packages (0.1.2)\n",
            "Requirement already satisfied: japanize-matplotlib in /usr/local/lib/python3.11/dist-packages (1.1.3)\n",
            "Requirement already satisfied: matplotlib in /usr/local/lib/python3.11/dist-packages (from japanize-matplotlib) (3.10.0)\n",
            "Requirement already satisfied: contourpy>=1.0.1 in /usr/local/lib/python3.11/dist-packages (from matplotlib->japanize-matplotlib) (1.3.1)\n",
            "Requirement already satisfied: cycler>=0.10 in /usr/local/lib/python3.11/dist-packages (from matplotlib->japanize-matplotlib) (0.12.1)\n",
            "Requirement already satisfied: fonttools>=4.22.0 in /usr/local/lib/python3.11/dist-packages (from matplotlib->japanize-matplotlib) (4.56.0)\n",
            "Requirement already satisfied: kiwisolver>=1.3.1 in /usr/local/lib/python3.11/dist-packages (from matplotlib->japanize-matplotlib) (1.4.8)\n",
            "Requirement already satisfied: numpy>=1.23 in /usr/local/lib/python3.11/dist-packages (from matplotlib->japanize-matplotlib) (1.26.4)\n",
            "Requirement already satisfied: packaging>=20.0 in /usr/local/lib/python3.11/dist-packages (from matplotlib->japanize-matplotlib) (24.2)\n",
            "Requirement already satisfied: pillow>=8 in /usr/local/lib/python3.11/dist-packages (from matplotlib->japanize-matplotlib) (11.1.0)\n",
            "Requirement already satisfied: pyparsing>=2.3.1 in /usr/local/lib/python3.11/dist-packages (from matplotlib->japanize-matplotlib) (3.2.1)\n",
            "Requirement already satisfied: python-dateutil>=2.7 in /usr/local/lib/python3.11/dist-packages (from matplotlib->japanize-matplotlib) (2.8.2)\n",
            "Requirement already satisfied: six>=1.5 in /usr/local/lib/python3.11/dist-packages (from python-dateutil>=2.7->matplotlib->japanize-matplotlib) (1.17.0)\n"
          ]
        }
      ],
      "source": [
        "\n",
        "!apt updateapt update\n",
        "!pip install mdbtools-dev\n",
        "!apt-get install mdbtools\n",
        "!pip install pandas pyodbc\n",
        "!pip install pymssql\n",
        "!pip install tempfile2\n",
        "!pip install japanize-matplotlib\n",
        "import warnings\n",
        "warnings.filterwarnings('ignore')"
      ]
    },
    {
      "cell_type": "code",
      "execution_count": 41,
      "metadata": {
        "colab": {
          "base_uri": "https://localhost:8080/"
        },
        "id": "ZJ7nrX1c3HQJ",
        "outputId": "f4763b75-46d3-4729-f84a-d6d726c24f8e"
      },
      "outputs": [
        {
          "output_type": "stream",
          "name": "stdout",
          "text": [
            "Drive already mounted at /content/drive; to attempt to forcibly remount, call drive.mount(\"/content/drive\", force_remount=True).\n"
          ]
        }
      ],
      "source": [
        "from google.colab import drive\n",
        "drive.mount('/content/drive')"
      ]
    },
    {
      "cell_type": "code",
      "execution_count": 42,
      "metadata": {
        "id": "XBQGTsi1EGkO"
      },
      "outputs": [],
      "source": [
        "import sys\n",
        "sys.path.append('/content/drive/MyDrive/Dev/py2/')\n",
        "import numpy as np\n",
        "\n",
        "import pandas as pd\n",
        "from google.colab import files\n",
        "import os\n",
        "import subprocess\n",
        "from io import StringIO  # StringIOを正しくインポート\n",
        "import model.utility.k_analysis_util as k_a_util\n",
        "import model.utility.k_analysis_util as k_analysis_util\n",
        "from IPython.display import display\n",
        "import datetime\n",
        "import matplotlib.pyplot as plt\n",
        "import seaborn as sns\n",
        "import japanize_matplotlib"
      ]
    },
    {
      "cell_type": "code",
      "source": [
        "def query_re_records_by_y(y):\n",
        "  db_path = f\"/content/drive/MyDrive/Dev/Kjvan/kjdb_prediction_cache_{y}.accdb\"\n",
        "  cmd = \"\"\"select * from HorseResult\n",
        "  \"\"\"\n",
        " # where rr_r_id='{program_id}' and rr_r_race='{race_no}\n",
        "  return k_analysis_util.execute_mdb_sql(db_path, cmd)\n"
      ],
      "metadata": {
        "id": "mWvjLbhcI5bG"
      },
      "execution_count": 43,
      "outputs": []
    },
    {
      "cell_type": "code",
      "source": [
        "db_path = \"/content/drive/MyDrive/Dev/Kjvan/kjdb_predict_result.accdb\"\n",
        "today = datetime.datetime.now()"
      ],
      "metadata": {
        "id": "0WYBZkdSwuz2"
      },
      "execution_count": 44,
      "outputs": []
    },
    {
      "cell_type": "markdown",
      "source": [],
      "metadata": {
        "id": "o9gz-834zQc-"
      }
    },
    {
      "cell_type": "code",
      "source": [
        "sort_key ='pr_rank'\n",
        "#sort_key ='pr_hE_pred'\n",
        "ascending=True\n",
        "cmd = f\"select * from PredictResults\"\n",
        "df_pr = k_analysis_util.execute_mdb_sql(db_path, cmd)"
      ],
      "metadata": {
        "colab": {
          "base_uri": "https://localhost:8080/"
        },
        "id": "YmdWEneVyxH1",
        "outputId": "1d1f3441-a4cc-44d5-e9d2-943edb170297"
      },
      "execution_count": 45,
      "outputs": [
        {
          "output_type": "stream",
          "name": "stdout",
          "text": [
            "Query output saved to: /tmp/tmptcv5iyv4.txt\n"
          ]
        }
      ]
    },
    {
      "cell_type": "code",
      "source": [
        "# まず'pr_program_id'を文字列型に変換\n",
        "df_pr['pr_program_id'] = df_pr['pr_program_id'].astype(str)\n",
        "\n",
        "# その後、文字列抽出と数値変換を実行\n",
        "df_pr = df_pr[df_pr['pr_program_id'].str[4:6].astype(int) >= today.month]\n",
        "#df_pr=df_filtered"
      ],
      "metadata": {
        "id": "Tb3I_X94awYe"
      },
      "execution_count": 46,
      "outputs": []
    },
    {
      "cell_type": "code",
      "source": [
        "\n",
        "\n",
        "# 表示オプションの設定\n",
        "pd.set_option('display.max_colwidth', 1)  # 各列の最大表示幅を10に設定\n",
        "\n",
        "# カスタムカラーマップの作成\n",
        "colors = [\n",
        "    (255/255, 255/255, 255/255),  # #FFF2F2 - ほぼ白\n",
        "    # (255/255, 230/255, 230/255),  # #FFE6E6 - 非常に薄い赤 (90%)\n",
        "    # (255/255, 217/255, 217/255),  # #FFD9D9 - 非常に薄い赤 (85%)\n",
        "    (255/255, 204/255, 204/255),  # #FFCCCC - 非常に薄い赤 (80%)\n",
        "    (255/255, 179/255, 179/255),  # #FFB3B3 - 薄い赤 (70%)\n",
        "    (255/255, 153/255, 153/255),  # #FF9999 - 薄い赤 (60%)\n",
        "    (255/255, 128/255, 128/255),  # #FF8080 - 薄い赤 (50%)\n",
        "    (255/255, 102/255, 102/255),  # #FF6666 - 薄い赤 (40%)\n",
        "    (255/255, 51/255, 51/255),    # #FF3333 - 薄い赤 (20%)\n",
        "    (255/255, 0/255, 0/255),      # #FF0000 - 純粋な赤\n",
        "    (204/255, 0/255, 0/255),      # #CC0000 - 赤\n",
        "]\n",
        "custom_cmap = sns.blend_palette(colors, as_cmap=True)\n",
        "# bt_place、bt_distance、bt_track_cdでグループ化\n",
        "grouped = df_pr.groupby(['pr_program_id', 'pr_race'])"
      ],
      "metadata": {
        "id": "Meqcy9wLOY73"
      },
      "execution_count": 47,
      "outputs": []
    },
    {
      "cell_type": "code",
      "source": [
        "\n",
        "\n",
        "# 各グループごとにヒートマップを描画\n",
        "dict_re={}\n",
        "for (program_id, race_no), group_df in grouped:\n",
        "    try:\n",
        "      y = program_id[:4]\n",
        "      query = f\"pr_rank.astype('int') != 0\"\n",
        "      group_df2 = group_df.query(query, engine='python')\n",
        "      if(len(group_df2)):\n",
        "        df_re = None\n",
        "        if( y in  dict_re.keys()):\n",
        "          df_re = dict_re[y]\n",
        "        else:\n",
        "          print(y)\n",
        "          df_re = query_re_records_by_y(y)\n",
        "          df_re['rr_r_id'] = df_re['rr_r_id'].astype(str)\n",
        "          df_re['rr_r_horse_id'] = df_re['rr_r_horse_id'].astype(str)\n",
        "          #df_re =df_re[['rr_r_horse_id', 'rr_r_horse_name']]\n",
        "          dict_re[y] = df_re\n",
        "\n",
        "\n",
        "        # pr_rankでソート\n",
        "        sorted_group_df =group_df2\n",
        "        #sorted_group_df = group_df2.sort_values(sort_key, ascending = ascending)\n",
        "\n",
        "        # 'pr_horse_id-pr_vote' の列を作成\n",
        "\n",
        "        sorted_group_df2 = pd.merge(df_re, sorted_group_df,\n",
        "              left_on=['rr_r_id','rr_r_horse_id'],\n",
        "              right_on=['pr_program_id','pr_horse_id'],\n",
        "              how='inner')\n",
        "        if(len(sorted_group_df2)):\n",
        "          sorted_group_df2['pr_horse_id-pr_vote'] = sorted_group_df2['rr_r_horse_name'].astype(str) + '-'+ sorted_group_df2['pr_vote'].astype(str).str.zfill(2) + '-'+ sorted_group_df2['pr_rank'].astype(str).str.zfill(2)\n",
        "          sorted_group_df2 = sorted_group_df2.sort_values(sort_key, ascending = ascending)\n",
        "          # ヒートマップのデータ作成\n",
        "          heatmap_data = sorted_group_df2[['pr_horse_id-pr_vote', 'pr_h1_pred', 'pr_h2_pred', 'pr_h3_pred', 'pr_h4_pred', 'pr_hE_pred']]\n",
        "          heatmap_data = heatmap_data.set_index('pr_horse_id-pr_vote')\n",
        "          heatmap_data = heatmap_data.rename(columns={\n",
        "              'pr_h1_pred': 'mlp',\n",
        "              'pr_h2_pred': 'cat',\n",
        "              'pr_h3_pred': 'amt',\n",
        "              'pr_h4_pred': 'bld',\n",
        "              'pr_hE_pred': 'ens',\n",
        "          })\n",
        "          m = program_id[4:6]\n",
        "          plt.figure(figsize=(4, 4))  # 図のサイズ調整\n",
        "          ax = sns.heatmap(heatmap_data, annot=True, fmt=\".1f\", cmap='coolwarm', center=0, cbar=False)\n",
        "          ax.xaxis.set_ticks_position('top')     # 目盛りを上部に\n",
        "          ax.xaxis.set_label_position('top')     # ラベルを上部に\n",
        "          plt.title(f'{program_id}  Race: {race_no}')\n",
        "          plt.ylabel('')\n",
        "          plt.tight_layout()\n",
        "          plt.show()\n",
        "    except Exception as e:\n",
        "      print(e)\n"
      ],
      "metadata": {
        "collapsed": true,
        "id": "q8-0BNP8Q3Fg",
        "colab": {
          "base_uri": "https://localhost:8080/"
        },
        "outputId": "2a85be1d-7e96-4277-bac9-40de12255c94"
      },
      "execution_count": 53,
      "outputs": [
        {
          "output_type": "stream",
          "name": "stdout",
          "text": [
            "2025\n",
            "Query output saved to: /tmp/tmpe9lt4jcs.txt\n"
          ]
        }
      ]
    },
    {
      "cell_type": "code",
      "source": [],
      "metadata": {
        "id": "ILwbB9HfN64U"
      },
      "execution_count": 48,
      "outputs": []
    }
  ],
  "metadata": {
    "colab": {
      "provenance": []
    },
    "kernelspec": {
      "display_name": "Python 3",
      "name": "python3"
    },
    "language_info": {
      "name": "python"
    }
  },
  "nbformat": 4,
  "nbformat_minor": 0
}