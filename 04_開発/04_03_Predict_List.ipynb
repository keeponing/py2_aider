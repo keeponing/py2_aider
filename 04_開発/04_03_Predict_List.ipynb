{
  "cells": [
    {
      "cell_type": "code",
      "execution_count": 1,
      "metadata": {
        "colab": {
          "base_uri": "https://localhost:8080/"
        },
        "id": "qNAnYLCu2bwJ",
        "outputId": "c27f5949-ef8a-475b-9949-807ab646dacb"
      },
      "outputs": [
        {
          "output_type": "stream",
          "name": "stdout",
          "text": [
            "\u001b[1;31mE: \u001b[0mInvalid operation updateapt\u001b[0m\n",
            "\u001b[31mERROR: Could not find a version that satisfies the requirement mdbtools-dev (from versions: none)\u001b[0m\u001b[31m\n",
            "\u001b[0m\u001b[31mERROR: No matching distribution found for mdbtools-dev\u001b[0m\u001b[31m\n",
            "Reading package lists... Done\n",
            "Building dependency tree... Done\n",
            "Reading state information... Done\n",
            "The following additional packages will be installed:\n",
            "  libmdb3 libmdbsql3\n",
            "Suggested packages:\n",
            "  bash-completion\n",
            "The following NEW packages will be installed:\n",
            "  libmdb3 libmdbsql3 mdbtools\n",
            "0 upgraded, 3 newly installed, 0 to remove and 23 not upgraded.\n",
            "Need to get 136 kB of archives.\n",
            "After this operation, 486 kB of additional disk space will be used.\n",
            "Get:1 http://archive.ubuntu.com/ubuntu jammy/universe amd64 libmdb3 amd64 1.0.0+dfsg-1 [68.9 kB]\n",
            "Get:2 http://archive.ubuntu.com/ubuntu jammy/universe amd64 libmdbsql3 amd64 1.0.0+dfsg-1 [18.8 kB]\n",
            "Get:3 http://archive.ubuntu.com/ubuntu jammy/universe amd64 mdbtools amd64 1.0.0+dfsg-1 [48.3 kB]\n",
            "Fetched 136 kB in 0s (291 kB/s)\n",
            "Selecting previously unselected package libmdb3:amd64.\n",
            "(Reading database ... 124947 files and directories currently installed.)\n",
            "Preparing to unpack .../libmdb3_1.0.0+dfsg-1_amd64.deb ...\n",
            "Unpacking libmdb3:amd64 (1.0.0+dfsg-1) ...\n",
            "Selecting previously unselected package libmdbsql3:amd64.\n",
            "Preparing to unpack .../libmdbsql3_1.0.0+dfsg-1_amd64.deb ...\n",
            "Unpacking libmdbsql3:amd64 (1.0.0+dfsg-1) ...\n",
            "Selecting previously unselected package mdbtools.\n",
            "Preparing to unpack .../mdbtools_1.0.0+dfsg-1_amd64.deb ...\n",
            "Unpacking mdbtools (1.0.0+dfsg-1) ...\n",
            "Setting up libmdb3:amd64 (1.0.0+dfsg-1) ...\n",
            "Setting up libmdbsql3:amd64 (1.0.0+dfsg-1) ...\n",
            "Setting up mdbtools (1.0.0+dfsg-1) ...\n",
            "Processing triggers for man-db (2.10.2-1) ...\n",
            "Processing triggers for libc-bin (2.35-0ubuntu3.8) ...\n",
            "/sbin/ldconfig.real: /usr/local/lib/libtbbmalloc.so.2 is not a symbolic link\n",
            "\n",
            "/sbin/ldconfig.real: /usr/local/lib/libtbb.so.12 is not a symbolic link\n",
            "\n",
            "/sbin/ldconfig.real: /usr/local/lib/libumf.so.0 is not a symbolic link\n",
            "\n",
            "/sbin/ldconfig.real: /usr/local/lib/libtbbbind_2_5.so.3 is not a symbolic link\n",
            "\n",
            "/sbin/ldconfig.real: /usr/local/lib/libtcm_debug.so.1 is not a symbolic link\n",
            "\n",
            "/sbin/ldconfig.real: /usr/local/lib/libur_adapter_level_zero.so.0 is not a symbolic link\n",
            "\n",
            "/sbin/ldconfig.real: /usr/local/lib/libhwloc.so.15 is not a symbolic link\n",
            "\n",
            "/sbin/ldconfig.real: /usr/local/lib/libtcm.so.1 is not a symbolic link\n",
            "\n",
            "/sbin/ldconfig.real: /usr/local/lib/libur_loader.so.0 is not a symbolic link\n",
            "\n",
            "/sbin/ldconfig.real: /usr/local/lib/libtbbbind.so.3 is not a symbolic link\n",
            "\n",
            "/sbin/ldconfig.real: /usr/local/lib/libtbbmalloc_proxy.so.2 is not a symbolic link\n",
            "\n",
            "/sbin/ldconfig.real: /usr/local/lib/libur_adapter_opencl.so.0 is not a symbolic link\n",
            "\n",
            "/sbin/ldconfig.real: /usr/local/lib/libtbbbind_2_0.so.3 is not a symbolic link\n",
            "\n",
            "Requirement already satisfied: pandas in /usr/local/lib/python3.11/dist-packages (2.2.2)\n",
            "Collecting pyodbc\n",
            "  Downloading pyodbc-5.2.0-cp311-cp311-manylinux_2_17_x86_64.manylinux2014_x86_64.whl.metadata (2.7 kB)\n",
            "Requirement already satisfied: numpy>=1.23.2 in /usr/local/lib/python3.11/dist-packages (from pandas) (1.26.4)\n",
            "Requirement already satisfied: python-dateutil>=2.8.2 in /usr/local/lib/python3.11/dist-packages (from pandas) (2.8.2)\n",
            "Requirement already satisfied: pytz>=2020.1 in /usr/local/lib/python3.11/dist-packages (from pandas) (2025.1)\n",
            "Requirement already satisfied: tzdata>=2022.7 in /usr/local/lib/python3.11/dist-packages (from pandas) (2025.1)\n",
            "Requirement already satisfied: six>=1.5 in /usr/local/lib/python3.11/dist-packages (from python-dateutil>=2.8.2->pandas) (1.17.0)\n",
            "Downloading pyodbc-5.2.0-cp311-cp311-manylinux_2_17_x86_64.manylinux2014_x86_64.whl (346 kB)\n",
            "\u001b[2K   \u001b[90m━━━━━━━━━━━━━━━━━━━━━━━━━━━━━━━━━━━━━━━━\u001b[0m \u001b[32m346.2/346.2 kB\u001b[0m \u001b[31m7.5 MB/s\u001b[0m eta \u001b[36m0:00:00\u001b[0m\n",
            "\u001b[?25hInstalling collected packages: pyodbc\n",
            "Successfully installed pyodbc-5.2.0\n",
            "Collecting pymssql\n",
            "  Downloading pymssql-2.3.2-cp311-cp311-manylinux_2_28_x86_64.whl.metadata (4.7 kB)\n",
            "Downloading pymssql-2.3.2-cp311-cp311-manylinux_2_28_x86_64.whl (4.8 MB)\n",
            "\u001b[2K   \u001b[90m━━━━━━━━━━━━━━━━━━━━━━━━━━━━━━━━━━━━━━━━\u001b[0m \u001b[32m4.8/4.8 MB\u001b[0m \u001b[31m54.5 MB/s\u001b[0m eta \u001b[36m0:00:00\u001b[0m\n",
            "\u001b[?25hInstalling collected packages: pymssql\n",
            "Successfully installed pymssql-2.3.2\n",
            "Collecting tempfile2\n",
            "  Downloading tempfile2-0.1.2.tar.gz (3.1 kB)\n",
            "  Preparing metadata (setup.py) ... \u001b[?25l\u001b[?25hdone\n",
            "Building wheels for collected packages: tempfile2\n",
            "  Building wheel for tempfile2 (setup.py) ... \u001b[?25l\u001b[?25hdone\n",
            "  Created wheel for tempfile2: filename=tempfile2-0.1.2-py3-none-any.whl size=2713 sha256=b1b3b2a624c65f5e15f88ffe054fe75a71536e255f42abaa6e09d93dd782af1a\n",
            "  Stored in directory: /root/.cache/pip/wheels/d8/13/c7/7053b5958dafad5cb95b4e26b0df0dcf6ae3a7aa03fe1a02f9\n",
            "Successfully built tempfile2\n",
            "Installing collected packages: tempfile2\n",
            "Successfully installed tempfile2-0.1.2\n",
            "Collecting japanize-matplotlib\n",
            "  Downloading japanize-matplotlib-1.1.3.tar.gz (4.1 MB)\n",
            "\u001b[2K     \u001b[90m━━━━━━━━━━━━━━━━━━━━━━━━━━━━━━━━━━━━━━━━\u001b[0m \u001b[32m4.1/4.1 MB\u001b[0m \u001b[31m47.5 MB/s\u001b[0m eta \u001b[36m0:00:00\u001b[0m\n",
            "\u001b[?25h  Preparing metadata (setup.py) ... \u001b[?25l\u001b[?25hdone\n",
            "Requirement already satisfied: matplotlib in /usr/local/lib/python3.11/dist-packages (from japanize-matplotlib) (3.10.0)\n",
            "Requirement already satisfied: contourpy>=1.0.1 in /usr/local/lib/python3.11/dist-packages (from matplotlib->japanize-matplotlib) (1.3.1)\n",
            "Requirement already satisfied: cycler>=0.10 in /usr/local/lib/python3.11/dist-packages (from matplotlib->japanize-matplotlib) (0.12.1)\n",
            "Requirement already satisfied: fonttools>=4.22.0 in /usr/local/lib/python3.11/dist-packages (from matplotlib->japanize-matplotlib) (4.56.0)\n",
            "Requirement already satisfied: kiwisolver>=1.3.1 in /usr/local/lib/python3.11/dist-packages (from matplotlib->japanize-matplotlib) (1.4.8)\n",
            "Requirement already satisfied: numpy>=1.23 in /usr/local/lib/python3.11/dist-packages (from matplotlib->japanize-matplotlib) (1.26.4)\n",
            "Requirement already satisfied: packaging>=20.0 in /usr/local/lib/python3.11/dist-packages (from matplotlib->japanize-matplotlib) (24.2)\n",
            "Requirement already satisfied: pillow>=8 in /usr/local/lib/python3.11/dist-packages (from matplotlib->japanize-matplotlib) (11.1.0)\n",
            "Requirement already satisfied: pyparsing>=2.3.1 in /usr/local/lib/python3.11/dist-packages (from matplotlib->japanize-matplotlib) (3.2.1)\n",
            "Requirement already satisfied: python-dateutil>=2.7 in /usr/local/lib/python3.11/dist-packages (from matplotlib->japanize-matplotlib) (2.8.2)\n",
            "Requirement already satisfied: six>=1.5 in /usr/local/lib/python3.11/dist-packages (from python-dateutil>=2.7->matplotlib->japanize-matplotlib) (1.17.0)\n",
            "Building wheels for collected packages: japanize-matplotlib\n",
            "  Building wheel for japanize-matplotlib (setup.py) ... \u001b[?25l\u001b[?25hdone\n",
            "  Created wheel for japanize-matplotlib: filename=japanize_matplotlib-1.1.3-py3-none-any.whl size=4120257 sha256=1501e771146899d3f0155a41ce421cd0c9ffa83a30287a5fd9711cf750559519\n",
            "  Stored in directory: /root/.cache/pip/wheels/da/a1/71/b8faeb93276fed10edffcca20746f1ef6f8d9e071eee8425fc\n",
            "Successfully built japanize-matplotlib\n",
            "Installing collected packages: japanize-matplotlib\n",
            "Successfully installed japanize-matplotlib-1.1.3\n"
          ]
        }
      ],
      "source": [
        "\n",
        "!apt updateapt update\n",
        "!pip install mdbtools-dev\n",
        "!apt-get install mdbtools\n",
        "!pip install pandas pyodbc\n",
        "!pip install pymssql\n",
        "!pip install tempfile2\n",
        "!pip install japanize-matplotlib\n",
        "import warnings\n",
        "warnings.filterwarnings('ignore')"
      ]
    },
    {
      "cell_type": "code",
      "execution_count": 2,
      "metadata": {
        "colab": {
          "base_uri": "https://localhost:8080/"
        },
        "id": "ZJ7nrX1c3HQJ",
        "outputId": "cdc2192b-24c5-40ce-d955-07dfd6a5f28e"
      },
      "outputs": [
        {
          "output_type": "stream",
          "name": "stdout",
          "text": [
            "Mounted at /content/drive\n"
          ]
        }
      ],
      "source": [
        "from google.colab import drive\n",
        "drive.mount('/content/drive')"
      ]
    },
    {
      "cell_type": "code",
      "execution_count": 3,
      "metadata": {
        "id": "XBQGTsi1EGkO"
      },
      "outputs": [],
      "source": [
        "import sys\n",
        "sys.path.append('/content/drive/MyDrive/Dev/py2/')\n",
        "import numpy as np\n",
        "\n",
        "import pandas as pd\n",
        "from google.colab import files\n",
        "import os\n",
        "import subprocess\n",
        "from io import StringIO  # StringIOを正しくインポート\n",
        "import model.utility.k_analysis_util as k_a_util\n",
        "import model.utility.k_analysis_util as k_analysis_util\n",
        "from IPython.display import display\n",
        "import datetime\n",
        "import matplotlib.pyplot as plt\n",
        "import seaborn as sns\n",
        "import japanize_matplotlib"
      ]
    },
    {
      "cell_type": "code",
      "source": [
        "def query_re_records_by_y(y):\n",
        "  db_path = f\"/content/drive/MyDrive/Dev/Kjvan/kjdb_prediction_cache_{y}.accdb\"\n",
        "  cmd = \"\"\"select * from HorseResult\n",
        "  \"\"\"\n",
        " # where rr_r_id='{program_id}' and rr_r_race='{race_no}\n",
        "  ret =  k_analysis_util.execute_mdb_sql(db_path, cmd)\n",
        "  ret['rr_r_id'] = ret['rr_r_id'].astype(str)\n",
        "  ret['rr_r_horse_id'] = ret['rr_r_horse_id'].astype(str)\n",
        "  return ret\n"
      ],
      "metadata": {
        "id": "mWvjLbhcI5bG"
      },
      "execution_count": 4,
      "outputs": []
    },
    {
      "cell_type": "code",
      "source": [
        "db_path = \"/content/drive/MyDrive/Dev/Kjvan/kjdb_predict_result.accdb\"\n",
        "today = datetime.datetime.now()"
      ],
      "metadata": {
        "id": "0WYBZkdSwuz2"
      },
      "execution_count": 5,
      "outputs": []
    },
    {
      "cell_type": "markdown",
      "source": [],
      "metadata": {
        "id": "o9gz-834zQc-"
      }
    },
    {
      "cell_type": "code",
      "source": [
        "sort_key ='pr_rank'\n",
        "#sort_key ='pr_hE_pred'\n",
        "ascending=True\n",
        "cmd = f\"select * from PredictResults\"\n",
        "df_pr = k_analysis_util.execute_mdb_sql(db_path, cmd)"
      ],
      "metadata": {
        "colab": {
          "base_uri": "https://localhost:8080/"
        },
        "id": "YmdWEneVyxH1",
        "outputId": "cb5b93d5-407f-49de-c274-ca4bbce24655"
      },
      "execution_count": 6,
      "outputs": [
        {
          "output_type": "stream",
          "name": "stdout",
          "text": [
            "Query output saved to: /tmp/tmpikhgt0lr.txt\n"
          ]
        }
      ]
    },
    {
      "cell_type": "code",
      "source": [
        "# まず'pr_program_id'を文字列型に変換\n",
        "df_pr['pr_program_id'] = df_pr['pr_program_id'].astype(str)\n",
        "df_re['rr_r_id'] = df_re['rr_r_id'].astype(str)\n",
        "df_re['rr_r_horse_id'] = df_re['rr_r_horse_id'].astype(str)\n",
        "df_re['rr_r_horse_name'] = df_re['rr_r_horse_name'].astype(str)\n",
        "# その後、文字列抽出と数値変換を実行\n",
        "df_pr = df_pr[df_pr['pr_program_id'].str[4:6].astype(int) >= today.month]\n",
        "\n",
        "df_pr['pr_program_id'] = df_pr['pr_program_id'].astype(str)\n",
        "df_pr['pr_horse_id'] = df_pr['pr_horse_id'].astype(str)\n",
        "#df_pr=df_filtered"
      ],
      "metadata": {
        "id": "Tb3I_X94awYe"
      },
      "execution_count": 7,
      "outputs": []
    },
    {
      "cell_type": "code",
      "source": [
        "print(df_pr.head())"
      ],
      "metadata": {
        "id": "R4L8dN7fkvZj",
        "outputId": "278376ca-4c35-49b5-912a-54e69760a087",
        "colab": {
          "base_uri": "https://localhost:8080/"
        }
      },
      "execution_count": 8,
      "outputs": [
        {
          "output_type": "stream",
          "name": "stdout",
          "text": [
            "     pr_program_id pr_horse_id  pr_rank  pr_h1_pred  pr_h2_pred  pr_h3_pred  \\\n",
            "3243    2025020105  2022100485        0      0.0044      0.1457      0.2422   \n",
            "3244    2025020105  2022100749        0      0.1445      0.5082      0.0320   \n",
            "3245    2025020105  2022103030        0      0.0081      0.0393      0.0302   \n",
            "3246    2025020105  2022103259        0      0.0135      0.1538      0.0993   \n",
            "3247    2025020105  2022103340        0      0.0155      0.0228      0.1072   \n",
            "\n",
            "      pr_h4_pred  pr_hE_pred  upd  pr_race pr_odds pr_vote  \n",
            "3243         0.0     0.07505    1        1    1866      15  \n",
            "3244         0.0     0.32635    1        1    0075      03  \n",
            "3245         0.0     0.02370    1        1    1926      16  \n",
            "3246         0.0     0.08365    1        1    0737      10  \n",
            "3247         0.0     0.01915    1        1    1126      12  \n"
          ]
        }
      ]
    },
    {
      "cell_type": "code",
      "source": [
        "\n",
        "\n",
        "# 表示オプションの設定\n",
        "pd.set_option('display.max_colwidth', 1)  # 各列の最大表示幅を10に設定\n",
        "\n",
        "# カスタムカラーマップの作成\n",
        "colors = [\n",
        "    (255/255, 255/255, 255/255),  # #FFF2F2 - ほぼ白\n",
        "    # (255/255, 230/255, 230/255),  # #FFE6E6 - 非常に薄い赤 (90%)\n",
        "    # (255/255, 217/255, 217/255),  # #FFD9D9 - 非常に薄い赤 (85%)\n",
        "    (255/255, 204/255, 204/255),  # #FFCCCC - 非常に薄い赤 (80%)\n",
        "    (255/255, 179/255, 179/255),  # #FFB3B3 - 薄い赤 (70%)\n",
        "    (255/255, 153/255, 153/255),  # #FF9999 - 薄い赤 (60%)\n",
        "    (255/255, 128/255, 128/255),  # #FF8080 - 薄い赤 (50%)\n",
        "    (255/255, 102/255, 102/255),  # #FF6666 - 薄い赤 (40%)\n",
        "    (255/255, 51/255, 51/255),    # #FF3333 - 薄い赤 (20%)\n",
        "    (255/255, 0/255, 0/255),      # #FF0000 - 純粋な赤\n",
        "    (204/255, 0/255, 0/255),      # #CC0000 - 赤\n",
        "]\n",
        "custom_cmap = sns.blend_palette(colors, as_cmap=True)\n",
        "# bt_place、bt_distance、bt_track_cdでグループ化\n",
        "grouped = df_pr.groupby(['pr_program_id', 'pr_race'])"
      ],
      "metadata": {
        "id": "Meqcy9wLOY73"
      },
      "execution_count": 9,
      "outputs": []
    },
    {
      "cell_type": "code",
      "source": [
        "\n",
        "\n",
        "# 各グループごとにヒートマップを描画\n",
        "dict_re={}\n",
        "for (program_id, race_no), group_df in grouped:\n",
        "    try:\n",
        "      y = program_id[:4]\n",
        "      query = f\"pr_rank.astype('int') != 0\"\n",
        "      group_df2 = group_df.query(query, engine='python')\n",
        "      if(len(group_df2)):\n",
        "        df_re = None\n",
        "        if( y in  dict_re.keys()):\n",
        "          df_re = dict_re[y]\n",
        "        else:\n",
        "\n",
        "          df_re = query_re_records_by_y(y)\n",
        "          df_re['rr_r_id'] = df_re['rr_r_id'].astype(str)\n",
        "          df_re['rr_r_horse_id'] = df_re['rr_r_horse_id'].astype(str)\n",
        "          df_re['rr_r_horse_name'] = df_re['rr_r_horse_name'].astype(str)\n",
        "\n",
        "          dict_re[y] = df_re\n",
        "\n",
        "\n",
        "        # pr_rankでソート\n",
        "        sorted_group_df = group_df2\n",
        "\n",
        "        #sorted_group_df = group_df2.sort_values(sort_key, ascending = ascending)\n",
        "\n",
        "        # 'pr_horse_id-pr_vote' の列を作成\n",
        "        # print(\"--- マージ前のデータ型確認 ---\")\n",
        "        # print(\"\\nsorted_group_df の型情報:\")\n",
        "        # print(\"pr_program_id の型:\", sorted_group_df['pr_program_id'].dtype)\n",
        "        # print(\"pr_horse_id の型:\", sorted_group_df['pr_horse_id'].dtype)\n",
        "\n",
        "        # print(\"\\ndf_re の型情報:\")\n",
        "        # print(\"rr_r_id の型:\", df_re['rr_r_id'].dtype)\n",
        "        # print(\"rr_r_horse_id の型:\", df_re['rr_r_horse_id'].dtype)\n",
        "        sorted_group_df2 = pd.merge(sorted_group_df, df_re,\n",
        "              left_on=['pr_program_id','pr_horse_id'],\n",
        "              right_on=['rr_r_id','rr_r_horse_id'],\n",
        "              how='inner')\n",
        "        if(len(sorted_group_df2)):\n",
        "          sorted_group_df2.head()\n",
        "          # sorted_group_df2['pr_horse_id-pr_vote'] = sorted_group_df2['pr_horse_id'].astype(str) + '-'+ sorted_group_df2['pr_vote'].astype(str).str.zfill(2) + '-'+ sorted_group_df2['pr_rank'].astype(str).str.zfill(2)\n",
        "          # sorted_group_df2 = sorted_group_df2.sort_values(sort_key, ascending = ascending)\n",
        "          # # ヒートマップのデータ作成\n",
        "          # heatmap_data = sorted_group_df2[['pr_horse_id-pr_vote', 'pr_h1_pred', 'pr_h2_pred', 'pr_h3_pred', 'pr_h4_pred', 'pr_hE_pred']]\n",
        "          # heatmap_data = heatmap_data.set_index('pr_horse_id-pr_vote')\n",
        "          # heatmap_data = heatmap_data.rename(columns={\n",
        "          #     'pr_h1_pred': 'mlp',\n",
        "          #     'pr_h2_pred': 'cat',\n",
        "          #     'pr_h3_pred': 'amt',\n",
        "          #     'pr_h4_pred': 'bld',\n",
        "          #     'pr_hE_pred': 'ens',\n",
        "          # })\n",
        "          # m = program_id[4:6]\n",
        "          # plt.figure(figsize=(4, 4))  # 図のサイズ調整\n",
        "          # ax = sns.heatmap(heatmap_data, annot=True, fmt=\".1f\", cmap='coolwarm', center=0, cbar=False)\n",
        "          # ax.xaxis.set_ticks_position('top')     # 目盛りを上部に\n",
        "          # ax.xaxis.set_label_position('top')     # ラベルを上部に\n",
        "          # plt.title(f'{program_id}  Race: {race_no}')\n",
        "          # plt.ylabel('')\n",
        "          # plt.tight_layout()\n",
        "          # plt.show()\n",
        "    except Exception as e:\n",
        "      print(e)\n"
      ],
      "metadata": {
        "collapsed": true,
        "id": "q8-0BNP8Q3Fg",
        "colab": {
          "base_uri": "https://localhost:8080/"
        },
        "outputId": "748a26f6-04ec-4f0f-d3f6-d31780dba6d0"
      },
      "execution_count": 10,
      "outputs": [
        {
          "output_type": "stream",
          "name": "stdout",
          "text": [
            "Query output saved to: /tmp/tmphm2u3avd.txt\n"
          ]
        }
      ]
    },
    {
      "cell_type": "code",
      "source": [],
      "metadata": {
        "id": "ILwbB9HfN64U"
      },
      "execution_count": 10,
      "outputs": []
    }
  ],
  "metadata": {
    "colab": {
      "provenance": []
    },
    "kernelspec": {
      "display_name": "Python 3",
      "name": "python3"
    },
    "language_info": {
      "name": "python"
    }
  },
  "nbformat": 4,
  "nbformat_minor": 0
}