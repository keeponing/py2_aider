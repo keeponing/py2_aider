{
  "cells": [
    {
      "cell_type": "code",
      "execution_count": 2,
      "metadata": {
        "colab": {
          "base_uri": "https://localhost:8080/"
        },
        "id": "qNAnYLCu2bwJ",
        "outputId": "207172c3-32eb-423b-c7f3-98054ff32855"
      },
      "outputs": [
        {
          "output_type": "stream",
          "name": "stdout",
          "text": [
            "\u001b[1;31mE: \u001b[0mInvalid operation updateapt\u001b[0m\n",
            "\u001b[31mERROR: Could not find a version that satisfies the requirement mdbtools-dev (from versions: none)\u001b[0m\u001b[31m\n",
            "\u001b[0m\u001b[31mERROR: No matching distribution found for mdbtools-dev\u001b[0m\u001b[31m\n",
            "Reading package lists... Done\n",
            "Building dependency tree... Done\n",
            "Reading state information... Done\n",
            "The following additional packages will be installed:\n",
            "  libmdb3 libmdbsql3\n",
            "Suggested packages:\n",
            "  bash-completion\n",
            "The following NEW packages will be installed:\n",
            "  libmdb3 libmdbsql3 mdbtools\n",
            "0 upgraded, 3 newly installed, 0 to remove and 18 not upgraded.\n",
            "Need to get 136 kB of archives.\n",
            "After this operation, 486 kB of additional disk space will be used.\n",
            "Get:1 http://archive.ubuntu.com/ubuntu jammy/universe amd64 libmdb3 amd64 1.0.0+dfsg-1 [68.9 kB]\n",
            "Get:2 http://archive.ubuntu.com/ubuntu jammy/universe amd64 libmdbsql3 amd64 1.0.0+dfsg-1 [18.8 kB]\n",
            "Get:3 http://archive.ubuntu.com/ubuntu jammy/universe amd64 mdbtools amd64 1.0.0+dfsg-1 [48.3 kB]\n",
            "Fetched 136 kB in 1s (246 kB/s)\n",
            "Selecting previously unselected package libmdb3:amd64.\n",
            "(Reading database ... 124950 files and directories currently installed.)\n",
            "Preparing to unpack .../libmdb3_1.0.0+dfsg-1_amd64.deb ...\n",
            "Unpacking libmdb3:amd64 (1.0.0+dfsg-1) ...\n",
            "Selecting previously unselected package libmdbsql3:amd64.\n",
            "Preparing to unpack .../libmdbsql3_1.0.0+dfsg-1_amd64.deb ...\n",
            "Unpacking libmdbsql3:amd64 (1.0.0+dfsg-1) ...\n",
            "Selecting previously unselected package mdbtools.\n",
            "Preparing to unpack .../mdbtools_1.0.0+dfsg-1_amd64.deb ...\n",
            "Unpacking mdbtools (1.0.0+dfsg-1) ...\n",
            "Setting up libmdb3:amd64 (1.0.0+dfsg-1) ...\n",
            "Setting up libmdbsql3:amd64 (1.0.0+dfsg-1) ...\n",
            "Setting up mdbtools (1.0.0+dfsg-1) ...\n",
            "Processing triggers for man-db (2.10.2-1) ...\n",
            "Processing triggers for libc-bin (2.35-0ubuntu3.8) ...\n",
            "/sbin/ldconfig.real: /usr/local/lib/libumf.so.0 is not a symbolic link\n",
            "\n",
            "/sbin/ldconfig.real: /usr/local/lib/libtcm.so.1 is not a symbolic link\n",
            "\n",
            "/sbin/ldconfig.real: /usr/local/lib/libur_adapter_opencl.so.0 is not a symbolic link\n",
            "\n",
            "/sbin/ldconfig.real: /usr/local/lib/libtbbbind_2_0.so.3 is not a symbolic link\n",
            "\n",
            "/sbin/ldconfig.real: /usr/local/lib/libtbbbind_2_5.so.3 is not a symbolic link\n",
            "\n",
            "/sbin/ldconfig.real: /usr/local/lib/libtbbmalloc.so.2 is not a symbolic link\n",
            "\n",
            "/sbin/ldconfig.real: /usr/local/lib/libtbbbind.so.3 is not a symbolic link\n",
            "\n",
            "/sbin/ldconfig.real: /usr/local/lib/libur_adapter_level_zero.so.0 is not a symbolic link\n",
            "\n",
            "/sbin/ldconfig.real: /usr/local/lib/libtcm_debug.so.1 is not a symbolic link\n",
            "\n",
            "/sbin/ldconfig.real: /usr/local/lib/libhwloc.so.15 is not a symbolic link\n",
            "\n",
            "/sbin/ldconfig.real: /usr/local/lib/libtbb.so.12 is not a symbolic link\n",
            "\n",
            "/sbin/ldconfig.real: /usr/local/lib/libtbbmalloc_proxy.so.2 is not a symbolic link\n",
            "\n",
            "/sbin/ldconfig.real: /usr/local/lib/libur_loader.so.0 is not a symbolic link\n",
            "\n",
            "Requirement already satisfied: pandas in /usr/local/lib/python3.11/dist-packages (2.2.2)\n",
            "Collecting pyodbc\n",
            "  Downloading pyodbc-5.2.0-cp311-cp311-manylinux_2_17_x86_64.manylinux2014_x86_64.whl.metadata (2.7 kB)\n",
            "Requirement already satisfied: numpy>=1.23.2 in /usr/local/lib/python3.11/dist-packages (from pandas) (1.26.4)\n",
            "Requirement already satisfied: python-dateutil>=2.8.2 in /usr/local/lib/python3.11/dist-packages (from pandas) (2.8.2)\n",
            "Requirement already satisfied: pytz>=2020.1 in /usr/local/lib/python3.11/dist-packages (from pandas) (2024.2)\n",
            "Requirement already satisfied: tzdata>=2022.7 in /usr/local/lib/python3.11/dist-packages (from pandas) (2025.1)\n",
            "Requirement already satisfied: six>=1.5 in /usr/local/lib/python3.11/dist-packages (from python-dateutil>=2.8.2->pandas) (1.17.0)\n",
            "Downloading pyodbc-5.2.0-cp311-cp311-manylinux_2_17_x86_64.manylinux2014_x86_64.whl (346 kB)\n",
            "\u001b[2K   \u001b[90m━━━━━━━━━━━━━━━━━━━━━━━━━━━━━━━━━━━━━━━━\u001b[0m \u001b[32m346.2/346.2 kB\u001b[0m \u001b[31m4.9 MB/s\u001b[0m eta \u001b[36m0:00:00\u001b[0m\n",
            "\u001b[?25hInstalling collected packages: pyodbc\n",
            "Successfully installed pyodbc-5.2.0\n",
            "Collecting pymssql\n",
            "  Downloading pymssql-2.3.2-cp311-cp311-manylinux_2_28_x86_64.whl.metadata (4.7 kB)\n",
            "Downloading pymssql-2.3.2-cp311-cp311-manylinux_2_28_x86_64.whl (4.8 MB)\n",
            "\u001b[2K   \u001b[90m━━━━━━━━━━━━━━━━━━━━━━━━━━━━━━━━━━━━━━━━\u001b[0m \u001b[32m4.8/4.8 MB\u001b[0m \u001b[31m33.5 MB/s\u001b[0m eta \u001b[36m0:00:00\u001b[0m\n",
            "\u001b[?25hInstalling collected packages: pymssql\n",
            "Successfully installed pymssql-2.3.2\n",
            "Collecting tempfile2\n",
            "  Downloading tempfile2-0.1.2.tar.gz (3.1 kB)\n",
            "  Preparing metadata (setup.py) ... \u001b[?25l\u001b[?25hdone\n",
            "Building wheels for collected packages: tempfile2\n",
            "  Building wheel for tempfile2 (setup.py) ... \u001b[?25l\u001b[?25hdone\n",
            "  Created wheel for tempfile2: filename=tempfile2-0.1.2-py3-none-any.whl size=2713 sha256=3fc6c0cf0afbf345a709065fed36006e1bd957462560d84c6a74ba44eb86ffcd\n",
            "  Stored in directory: /root/.cache/pip/wheels/d8/13/c7/7053b5958dafad5cb95b4e26b0df0dcf6ae3a7aa03fe1a02f9\n",
            "Successfully built tempfile2\n",
            "Installing collected packages: tempfile2\n",
            "Successfully installed tempfile2-0.1.2\n"
          ]
        }
      ],
      "source": [
        "\n",
        "!apt updateapt update\n",
        "!pip install mdbtools-dev\n",
        "!apt-get install mdbtools\n",
        "!pip install pandas pyodbc\n",
        "!pip install pymssql\n",
        "!pip install tempfile2\n",
        "import warnings\n",
        "warnings.filterwarnings('ignore')"
      ]
    },
    {
      "cell_type": "code",
      "execution_count": 3,
      "metadata": {
        "colab": {
          "base_uri": "https://localhost:8080/"
        },
        "id": "ZJ7nrX1c3HQJ",
        "outputId": "ea83471a-7499-4dae-b13f-2395c9e99fc6"
      },
      "outputs": [
        {
          "output_type": "stream",
          "name": "stdout",
          "text": [
            "Mounted at /content/drive\n"
          ]
        }
      ],
      "source": [
        "from google.colab import drive\n",
        "drive.mount('/content/drive')"
      ]
    },
    {
      "cell_type": "code",
      "execution_count": 4,
      "metadata": {
        "id": "XBQGTsi1EGkO"
      },
      "outputs": [],
      "source": [
        "import sys\n",
        "sys.path.append('/content/drive/MyDrive/Dev/py2/')\n",
        "import numpy as np\n",
        "\n",
        "import pandas as pd\n",
        "from google.colab import files\n",
        "import os\n",
        "import subprocess\n",
        "from io import StringIO  # StringIOを正しくインポート\n",
        "import model.utility.k_analysis_util as k_a_util\n",
        "from IPython.display import display\n",
        "\n",
        "from google.colab import drive\n",
        "import matplotlib.pyplot as plt\n",
        "import seaborn as sns\n",
        "\n",
        "import model.utility.k_analysis_util as k_analysis_util"
      ]
    },
    {
      "cell_type": "code",
      "source": [
        "db_path = \"/content/drive/MyDrive/Dev/Kjvan/kjdb_predict_result.accdb\"\n"
      ],
      "metadata": {
        "id": "0WYBZkdSwuz2"
      },
      "execution_count": 5,
      "outputs": []
    },
    {
      "cell_type": "markdown",
      "source": [],
      "metadata": {
        "id": "o9gz-834zQc-"
      }
    },
    {
      "cell_type": "code",
      "source": [
        "#sort_key ='pr_rank'\n",
        "sort_key ='pr_hE_pred'\n",
        "ascending=False\n",
        "cmd = f\"select * from PredictResults\"\n",
        "print(cmd)"
      ],
      "metadata": {
        "colab": {
          "base_uri": "https://localhost:8080/"
        },
        "id": "YmdWEneVyxH1",
        "outputId": "87e8e5d3-7c74-4e20-bcac-85c19c8095a6"
      },
      "execution_count": 6,
      "outputs": [
        {
          "output_type": "stream",
          "name": "stdout",
          "text": [
            "select * from PredictResults\n"
          ]
        }
      ]
    },
    {
      "cell_type": "code",
      "source": [
        "df_re = k_analysis_util.execute_mdb_sql(db_path, cmd)"
      ],
      "metadata": {
        "id": "Tb3I_X94awYe",
        "outputId": "7a37d9ea-c05d-4a5f-cbd6-e701b276b328",
        "colab": {
          "base_uri": "https://localhost:8080/"
        }
      },
      "execution_count": 7,
      "outputs": [
        {
          "output_type": "stream",
          "name": "stdout",
          "text": [
            "Query output saved to: /tmp/tmpnos3_irp.txt\n"
          ]
        }
      ]
    },
    {
      "cell_type": "code",
      "source": [
        "import warnings\n",
        "from google.colab import drive\n",
        "import sys\n",
        "import numpy as np\n",
        "import pandas as pd\n",
        "from google.colab import files\n",
        "import os\n",
        "import subprocess\n",
        "from io import StringIO\n",
        "from IPython.display import display\n",
        "import matplotlib.pyplot as plt\n",
        "import seaborn as sns\n",
        "import model.utility.k_analysis_util as k_analysis_util\n",
        "\n",
        "# 表示オプションの設定\n",
        "pd.set_option('display.max_colwidth', 1)  # 各列の最大表示幅を10に設定\n",
        "\n",
        "# カスタムカラーマップの作成\n",
        "colors = [\n",
        "    (255/255, 255/255, 255/255),  # #FFF2F2 - ほぼ白\n",
        "    # (255/255, 230/255, 230/255),  # #FFE6E6 - 非常に薄い赤 (90%)\n",
        "    # (255/255, 217/255, 217/255),  # #FFD9D9 - 非常に薄い赤 (85%)\n",
        "    (255/255, 204/255, 204/255),  # #FFCCCC - 非常に薄い赤 (80%)\n",
        "    (255/255, 179/255, 179/255),  # #FFB3B3 - 薄い赤 (70%)\n",
        "    (255/255, 153/255, 153/255),  # #FF9999 - 薄い赤 (60%)\n",
        "    (255/255, 128/255, 128/255),  # #FF8080 - 薄い赤 (50%)\n",
        "    (255/255, 102/255, 102/255),  # #FF6666 - 薄い赤 (40%)\n",
        "    (255/255, 51/255, 51/255),    # #FF3333 - 薄い赤 (20%)\n",
        "    (255/255, 0/255, 0/255),      # #FF0000 - 純粋な赤\n",
        "    (204/255, 0/255, 0/255),      # #CC0000 - 赤\n",
        "]\n",
        "custom_cmap = sns.blend_palette(colors, as_cmap=True)\n",
        "# bt_place、bt_distance、bt_track_cdでグループ化\n",
        "grouped = df_re.groupby(['pr_program_id', 'pr_race'])\n",
        "\n",
        "# 各グループごとにヒートマップを描画\n",
        "for (program_id, race), group_df in grouped:\n",
        "    try:\n",
        "      query = f\"pr_rank.astype('int') != 0\"\n",
        "      group_df2 = group_df.query(query, engine='python')\n",
        "      # pr_rankでソート\n",
        "      sorted_group_df = group_df2.sort_values(sort_key, ascending = ascending)\n",
        "\n",
        "      # 'pr_horse_id-pr_vote' の列を作成\n",
        "      sorted_group_df['pr_horse_id-pr_vote'] = sorted_group_df['pr_horse_id'].astype(str) + '-' + sorted_group_df['pr_vote'].astype(str).str.zfill(2)  # 2桁の0詰め\n",
        "\n",
        "      # ヒートマップのデータ作成\n",
        "      heatmap_data = sorted_group_df[['pr_horse_id-pr_vote', 'pr_h1_pred', 'pr_h2_pred', 'pr_h3_pred', 'pr_h4_pred', 'pr_hE_pred']]\n",
        "      heatmap_data = heatmap_data.set_index('pr_horse_id-pr_vote')\n",
        "      heatmap_data = heatmap_data.rename(columns={\n",
        "          'pr_h1_pred': 'mlp',\n",
        "          'pr_h2_pred': 'cat',\n",
        "          'pr_h3_pred': 'amt',\n",
        "          'pr_h4_pred': 'bld',\n",
        "          'pr_hE_pred': 'ens',\n",
        "      })\n",
        "\n",
        "      plt.figure(figsize=(4, 4))  # 図のサイズ調整\n",
        "      ax = sns.heatmap(heatmap_data, annot=True, fmt=\".1f\", cmap='coolwarm', center=0, cbar=False)\n",
        "      ax.xaxis.set_ticks_position('top')     # 目盛りを上部に\n",
        "      ax.xaxis.set_label_position('top')     # ラベルを上部に\n",
        "      plt.title(f'{program_id}, Race: {race}')\n",
        "      plt.ylabel('')\n",
        "      plt.tight_layout()\n",
        "      plt.show()\n",
        "    except Exception as e:\n",
        "      print(e)\n"
      ],
      "metadata": {
        "collapsed": true,
        "id": "q8-0BNP8Q3Fg"
      },
      "execution_count": 8,
      "outputs": []
    }
  ],
  "metadata": {
    "colab": {
      "provenance": []
    },
    "kernelspec": {
      "display_name": "Python 3",
      "name": "python3"
    },
    "language_info": {
      "name": "python"
    }
  },
  "nbformat": 4,
  "nbformat_minor": 0
}