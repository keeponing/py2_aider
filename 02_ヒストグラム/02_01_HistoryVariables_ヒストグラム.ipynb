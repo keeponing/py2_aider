{
  "nbformat": 4,
  "nbformat_minor": 0,
  "metadata": {
    "colab": {
      "provenance": [],
      "authorship_tag": "ABX9TyN2+IZp79EV9D3Zdv8qQTsg"
    },
    "kernelspec": {
      "name": "python3",
      "display_name": "Python 3"
    },
    "language_info": {
      "name": "python"
    }
  },
  "cells": [
    {
      "cell_type": "code",
      "execution_count": null,
      "metadata": {
        "id": "qNAnYLCu2bwJ",
        "colab": {
          "base_uri": "https://localhost:8080/"
        },
        "outputId": "8f02c36a-c37d-43fc-b775-21728cc5287b"
      },
      "outputs": [
        {
          "output_type": "stream",
          "name": "stdout",
          "text": [
            "\u001b[31mERROR: Could not find a version that satisfies the requirement mdbtools-dev (from versions: none)\u001b[0m\u001b[31m\n",
            "\u001b[0m\u001b[31mERROR: No matching distribution found for mdbtools-dev\u001b[0m\u001b[31m\n",
            "Reading package lists... Done\n",
            "Building dependency tree... Done\n",
            "Reading state information... Done\n",
            "mdbtools is already the newest version (1.0.0+dfsg-1).\n",
            "0 upgraded, 0 newly installed, 0 to remove and 49 not upgraded.\n",
            "Requirement already satisfied: pandas in /usr/local/lib/python3.10/dist-packages (2.2.2)\n",
            "Requirement already satisfied: pyodbc in /usr/local/lib/python3.10/dist-packages (5.2.0)\n",
            "Requirement already satisfied: numpy>=1.22.4 in /usr/local/lib/python3.10/dist-packages (from pandas) (1.26.4)\n",
            "Requirement already satisfied: python-dateutil>=2.8.2 in /usr/local/lib/python3.10/dist-packages (from pandas) (2.8.2)\n",
            "Requirement already satisfied: pytz>=2020.1 in /usr/local/lib/python3.10/dist-packages (from pandas) (2024.2)\n",
            "Requirement already satisfied: tzdata>=2022.7 in /usr/local/lib/python3.10/dist-packages (from pandas) (2024.2)\n",
            "Requirement already satisfied: six>=1.5 in /usr/local/lib/python3.10/dist-packages (from python-dateutil>=2.8.2->pandas) (1.17.0)\n"
          ]
        }
      ],
      "source": [
        "!pip install mdbtools-dev\n",
        "!apt-get install mdbtools\n",
        "!pip install pandas pyodbc\n",
        "!pip install tempfile2\n"
      ]
    },
    {
      "cell_type": "code",
      "source": [
        "from google.colab import drive\n",
        "drive.mount('/content/drive')"
      ],
      "metadata": {
        "colab": {
          "base_uri": "https://localhost:8080/"
        },
        "id": "ZJ7nrX1c3HQJ",
        "outputId": "a250eda2-e7df-4599-c3b1-32a9cee53a9c"
      },
      "execution_count": null,
      "outputs": [
        {
          "output_type": "stream",
          "name": "stdout",
          "text": [
            "Drive already mounted at /content/drive; to attempt to forcibly remount, call drive.mount(\"/content/drive\", force_remount=True).\n"
          ]
        }
      ]
    },
    {
      "cell_type": "code",
      "source": [
        "import sys\n",
        "sys.path.append('/content/drive/MyDrive/Dev/py2/')\n",
        "import numpy as np\n",
        "\n",
        "import pandas as pd\n",
        "from google.colab import files\n",
        "import os\n",
        "import subprocess\n",
        "from io import StringIO  # StringIOを正しくインポート\n",
        "import model.utility.k_analysis_util as k_a_util\n",
        "from IPython.display import display"
      ],
      "metadata": {
        "id": "XBQGTsi1EGkO"
      },
      "execution_count": null,
      "outputs": []
    },
    {
      "cell_type": "code",
      "source": [
        "\n",
        "# 使用例\n",
        "table_name = 'HistoryVariables'  # テーブル名を指定\n",
        "\n",
        "file_list = [f'kjdb_prediction_cache_{year}.accdb' for year in range(2000, 2025)]\n",
        "years = range(2000, 2025)\n",
        "\n",
        "k_a_util.prepare_pd_on_notebook()\n",
        "print(len(file_list))\n",
        "\n",
        "dict_statistics={}\n",
        "for y in years:\n",
        "  filepath = f'/content/drive/MyDrive/Dev/Kjvan/kjdb_prediction_cache_{y}.accdb'\n",
        "  df_summary = k_a_util.read_table(filepath, table_name)\n",
        "  columns_to_drop = [ 'key_program_id','key_horse_id','desc_race_no', 'desc_horse_no', 'upd']\n",
        "  df = df_summary.drop(columns=columns_to_drop)\n",
        "  dict_statistics[y] = df"
      ],
      "metadata": {
        "colab": {
          "base_uri": "https://localhost:8080/"
        },
        "id": "MRyXsKhEzCFj",
        "outputId": "25f72f97-01de-45d1-946a-8f01251167c0"
      },
      "execution_count": null,
      "outputs": [
        {
          "output_type": "stream",
          "name": "stdout",
          "text": [
            "25\n"
          ]
        }
      ]
    },
    {
      "cell_type": "code",
      "source": [
        "import pandas as pd\n",
        "import matplotlib.pyplot as plt\n",
        "\n",
        "def plot_histograms(dict_statistics, rows, cols, dpi=80):\n",
        "    \"\"\"\n",
        "    指定された辞書の各DataFrameのヒストグラムをプロットする関数です。\n",
        "\n",
        "    Args:\n",
        "        dict_statistics: プロット対象のDataFrameを含む辞書。\n",
        "        rows: グラフの行数。\n",
        "        cols: グラフの列数。\n",
        "        dpi: グラフの解像度。\n",
        "\n",
        "    Returns:\n",
        "        None\n",
        "    \"\"\"\n",
        "    plt.subplots_adjust(wspace=0.4, hspace=1.0)\n",
        "    for year, df in dict_statistics.items():\n",
        "        print(f\"{year}\")\n",
        "        # グラフのサイズを指定\n",
        "        fig, axes = plt.subplots(nrows=rows, ncols=cols, figsize=(cols*4, rows*3), dpi=dpi)\n",
        "\n",
        "        # 各列のヒストグラムをプロット\n",
        "        for i, column in enumerate(df.columns):\n",
        "            ax = axes[i // cols, i % cols]\n",
        "            df[column].hist(ax=ax, bins=20)  # ヒストグラムのビンの数を調整可能\n",
        "            ax.set_title(column)\n",
        "\n",
        "        # グラフのレイアウト調整\n",
        "        #plt.tight_layout()\n",
        "        plt.suptitle(f\"Histograms for Year {year}\", fontsize=14)\n",
        "\n",
        "        # グラフの保存 (必要に応じて)\n",
        "        # plt.savefig(f\"histograms_{year}.png\")\n",
        "        plt.show()\n",
        "\n"
      ],
      "metadata": {
        "id": "fZcJezsvFYuH"
      },
      "execution_count": null,
      "outputs": []
    },
    {
      "cell_type": "code",
      "source": [
        "# ヒストグラムの作成 (グラフの行数、列数、解像度を適宜変更)\n",
        "plot_histograms(dict_statistics, rows=2, cols=4, dpi=72)"
      ],
      "metadata": {
        "id": "DeqYw45pf6FD"
      },
      "execution_count": null,
      "outputs": []
    },
    {
      "cell_type": "code",
      "source": [],
      "metadata": {
        "id": "NxsvXCZqhGNz"
      },
      "execution_count": null,
      "outputs": []
    }
  ]
}