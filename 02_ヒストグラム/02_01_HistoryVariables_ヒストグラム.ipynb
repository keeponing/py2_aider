{
  "nbformat": 4,
  "nbformat_minor": 0,
  "metadata": {
    "colab": {
      "provenance": [],
      "authorship_tag": "ABX9TyMgNCQBhzdcuFGEIWMsm/Es"
    },
    "kernelspec": {
      "name": "python3",
      "display_name": "Python 3"
    },
    "language_info": {
      "name": "python"
    }
  },
  "cells": [
    {
      "cell_type": "code",
      "execution_count": 1,
      "metadata": {
        "id": "qNAnYLCu2bwJ",
        "colab": {
          "base_uri": "https://localhost:8080/"
        },
        "outputId": "23cd10a8-a689-48f7-8f33-abea2826bf9a"
      },
      "outputs": [
        {
          "output_type": "stream",
          "name": "stdout",
          "text": [
            "Requirement already satisfied: six>=1.5 in /usr/local/lib/python3.11/dist-packages (from python-dateutil>=2.8.2->pandas) (1.17.0)\n",
            "Downloading pyodbc-5.2.0-cp311-cp311-manylinux_2_17_x86_64.manylinux2014_x86_64.whl (346 kB)\n",
            "\u001b[?25l   \u001b[90m━━━━━━━━━━━━━━━━━━━━━━━━━━━━━━━━━━━━━━━━\u001b[0m \u001b[32m0.0/346.2 kB\u001b[0m \u001b[31m?\u001b[0m eta \u001b[36m-:--:--\u001b[0m\r\u001b[2K   \u001b[91m━━━━━━━━━━━━━━━━━━━━━\u001b[0m\u001b[90m╺\u001b[0m\u001b[90m━━━━━━━━━━━━━━━━━━\u001b[0m \u001b[32m184.3/346.2 kB\u001b[0m \u001b[31m5.4 MB/s\u001b[0m eta \u001b[36m0:00:01\u001b[0m\r\u001b[2K   \u001b[90m━━━━━━━━━━━━━━━━━━━━━━━━━━━━━━━━━━━━━━━━\u001b[0m \u001b[32m346.2/346.2 kB\u001b[0m \u001b[31m5.2 MB/s\u001b[0m eta \u001b[36m0:00:00\u001b[0m\n",
            "\u001b[?25hInstalling collected packages: pyodbc\n",
            "Successfully installed pyodbc-5.2.0\n",
            "Collecting tempfile2\n",
            "  Downloading tempfile2-0.1.2.tar.gz (3.1 kB)\n",
            "  Preparing metadata (setup.py) ... \u001b[?25l\u001b[?25hdone\n",
            "Building wheels for collected packages: tempfile2\n",
            "  Building wheel for tempfile2 (setup.py) ... \u001b[?25l\u001b[?25hdone\n",
            "  Created wheel for tempfile2: filename=tempfile2-0.1.2-py3-none-any.whl size=2711 sha256=552d9c54da60a315535a7cb304522b6947aaaf1bfc09c30629bc646f390cbdf8\n",
            "  Stored in directory: /root/.cache/pip/wheels/d8/13/c7/7053b5958dafad5cb95b4e26b0df0dcf6ae3a7aa03fe1a02f9\n",
            "Successfully built tempfile2\n",
            "Installing collected packages: tempfile2\n",
            "Successfully installed tempfile2-0.1.2\n"
          ]
        }
      ],
      "source": [
        "!pip install mdbtools-dev\n",
        "!apt-get install mdbtools\n",
        "!pip install pandas pyodbc\n",
        "!pip install tempfile2\n"
      ]
    },
    {
      "cell_type": "code",
      "source": [
        "from google.colab import drive\n",
        "drive.mount('/content/drive')"
      ],
      "metadata": {
        "colab": {
          "base_uri": "https://localhost:8080/"
        },
        "id": "ZJ7nrX1c3HQJ",
        "outputId": "96e427ff-fe68-4885-b5a5-29f36031b0fa"
      },
      "execution_count": 2,
      "outputs": [
        {
          "output_type": "stream",
          "name": "stdout",
          "text": [
            "Mounted at /content/drive\n"
          ]
        }
      ]
    },
    {
      "cell_type": "code",
      "source": [
        "import sys\n",
        "sys.path.append('/content/drive/MyDrive/Dev/py2/')\n",
        "import numpy as np\n",
        "\n",
        "import pandas as pd\n",
        "from google.colab import files\n",
        "import os\n",
        "import subprocess\n",
        "from io import StringIO  # StringIOを正しくインポート\n",
        "import model.utility.k_analysis_util as k_a_util\n",
        "from IPython.display import display"
      ],
      "metadata": {
        "id": "XBQGTsi1EGkO"
      },
      "execution_count": 3,
      "outputs": []
    },
    {
      "cell_type": "code",
      "source": [
        "\n",
        "# 使用例\n",
        "table_name = 'HistoryVariables'  # テーブル名を指定\n",
        "\n",
        "file_list = [f'kjdb_prediction_cache_{year}.accdb' for year in range(2000, 2025)]\n",
        "years = range(2000, 2025)\n",
        "\n",
        "k_a_util.prepare_pd_on_notebook()\n",
        "print(len(file_list))\n",
        "\n",
        "dict_statistics={}\n",
        "for y in years:\n",
        "  filepath = f'/content/drive/MyDrive/Dev/Kjvan/kjdb_prediction_cache_{y}.accdb'\n",
        "  df_summary = k_a_util.read_table(filepath, table_name)\n",
        "  columns_to_drop = [ 'hv_horse_id', 'hv_race_no', 'hv_horse_no', 'upd']\n",
        "  df = df_summary.drop(columns=columns_to_drop)\n",
        "  dict_statistics[y] = df"
      ],
      "metadata": {
        "colab": {
          "base_uri": "https://localhost:8080/"
        },
        "id": "MRyXsKhEzCFj",
        "outputId": "25f72f97-01de-45d1-946a-8f01251167c0"
      },
      "execution_count": null,
      "outputs": [
        {
          "output_type": "stream",
          "name": "stdout",
          "text": [
            "25\n"
          ]
        }
      ]
    },
    {
      "cell_type": "code",
      "source": [
        "import pandas as pd\n",
        "import matplotlib.pyplot as plt\n",
        "\n",
        "def plot_histograms(dict_statistics, rows, cols, dpi=80):\n",
        "    \"\"\"\n",
        "    指定された辞書の各DataFrameのヒストグラムをプロットする関数です。\n",
        "\n",
        "    Args:\n",
        "        dict_statistics: プロット対象のDataFrameを含む辞書。\n",
        "        rows: グラフの行数。\n",
        "        cols: グラフの列数。\n",
        "        dpi: グラフの解像度。\n",
        "\n",
        "    Returns:\n",
        "        None\n",
        "    \"\"\"\n",
        "    plt.subplots_adjust(wspace=0.4, hspace=1.0)\n",
        "    for year, df in dict_statistics.items():\n",
        "        print(f\"{year}\")\n",
        "        # グラフのサイズを指定\n",
        "        fig, axes = plt.subplots(nrows=rows, ncols=cols, figsize=(cols*4, rows*3), dpi=dpi)\n",
        "\n",
        "        # 各列のヒストグラムをプロット\n",
        "        for i, column in enumerate(df.columns):\n",
        "            ax = axes[i // cols, i % cols]\n",
        "            df[column].hist(ax=ax, bins=20)  # ヒストグラムのビンの数を調整可能\n",
        "            ax.set_title(column)\n",
        "\n",
        "        # グラフのレイアウト調整\n",
        "        #plt.tight_layout()\n",
        "        plt.suptitle(f\"Histograms for Year {year}\", fontsize=14)\n",
        "\n",
        "        # グラフの保存 (必要に応じて)\n",
        "        # plt.savefig(f\"histograms_{year}.png\")\n",
        "        plt.show()\n",
        "\n"
      ],
      "metadata": {
        "id": "fZcJezsvFYuH"
      },
      "execution_count": null,
      "outputs": []
    },
    {
      "cell_type": "code",
      "source": [
        "# ヒストグラムの作成 (グラフの行数、列数、解像度を適宜変更)\n",
        "plot_histograms(dict_statistics, rows=2, cols=4, dpi=72)"
      ],
      "metadata": {
        "id": "DeqYw45pf6FD"
      },
      "execution_count": null,
      "outputs": []
    },
    {
      "cell_type": "code",
      "source": [],
      "metadata": {
        "id": "NxsvXCZqhGNz"
      },
      "execution_count": null,
      "outputs": []
    }
  ]
}