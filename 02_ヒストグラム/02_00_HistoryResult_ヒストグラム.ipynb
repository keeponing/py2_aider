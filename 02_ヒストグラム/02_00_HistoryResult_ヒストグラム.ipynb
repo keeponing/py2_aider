{
  "cells": [
    {
      "cell_type": "code",
      "execution_count": null,
      "metadata": {
        "colab": {
          "base_uri": "https://localhost:8080/"
        },
        "id": "qNAnYLCu2bwJ",
        "outputId": "8f02c36a-c37d-43fc-b775-21728cc5287b"
      },
      "outputs": [],
      "source": [
        "!pip install mdbtools-dev\n",
        "!apt-get install mdbtools\n",
        "!pip install pandas pyodbc\n"
      ]
    },
    {
      "cell_type": "code",
      "execution_count": 14,
      "metadata": {
        "colab": {
          "base_uri": "https://localhost:8080/"
        },
        "id": "ZJ7nrX1c3HQJ",
        "outputId": "a250eda2-e7df-4599-c3b1-32a9cee53a9c"
      },
      "outputs": [
        {
          "name": "stdout",
          "output_type": "stream",
          "text": [
            "Drive already mounted at /content/drive; to attempt to forcibly remount, call drive.mount(\"/content/drive\", force_remount=True).\n"
          ]
        }
      ],
      "source": [
        "from google.colab import drive\n",
        "drive.mount('/content/drive')"
      ]
    },
    {
      "cell_type": "code",
      "execution_count": 31,
      "metadata": {
        "id": "XBQGTsi1EGkO"
      },
      "outputs": [],
      "source": [
        "import sys\n",
        "sys.path.append('/content/drive/MyDrive/Dev/py2/')\n",
        "import numpy as np\n",
        "\n",
        "import pandas as pd\n",
        "from google.colab import files\n",
        "import os\n",
        "import subprocess\n",
        "from io import StringIO  # StringIOを正しくインポート\n",
        "import model.utility.k_analysis_util as k_a_util\n",
        "from IPython.display import display"
      ]
    },
    {
      "cell_type": "code",
      "execution_count": null,
      "metadata": {
        "colab": {
          "base_uri": "https://localhost:8080/"
        },
        "id": "MRyXsKhEzCFj",
        "outputId": "25f72f97-01de-45d1-946a-8f01251167c0"
      },
      "outputs": [
        {
          "name": "stdout",
          "output_type": "stream",
          "text": [
            "25\n"
          ]
        }
      ],
      "source": [
        "\n",
        "# 使用例\n",
        "table_name = 'HistoryResult'  # テーブル名を指定\n",
        "\n",
        "file_list = [f'kjdb_prediction_cache_{year}.accdb' for year in range(2000, 2025)]\n",
        "years = range(2000, 2025)\n",
        "\n",
        "k_a_util.prepare_pd_on_notebook()\n",
        "print(len(file_list))\n",
        "\n",
        "dict_statistics={}\n",
        "for y in years:\n",
        "  filepath = f'/content/drive/MyDrive/Dev/Kjvan/kjdb_prediction_cache_{y}.accdb'\n",
        "  df_summary = k_a_util.read_table(filepath, table_name)\n",
        "  columns_to_drop = [ 'key_program_id','key_horse_id','desc_race_no', 'desc_horse_no', 'upd']\n",
        "  df = df_summary.drop(columns=columns_to_drop)\n",
        "  dict_statistics[y] = df"
      ]
    },
    {
      "cell_type": "code",
      "execution_count": 45,
      "metadata": {
        "id": "fZcJezsvFYuH"
      },
      "outputs": [],
      "source": [
        "import pandas as pd\n",
        "import matplotlib.pyplot as plt\n",
        "\n",
        "def plot_histograms(dict_statistics, rows, cols, dpi=80):\n",
        "    \"\"\"\n",
        "    指定された辞書の各DataFrameのヒストグラムをプロットする関数です。\n",
        "\n",
        "    Args:\n",
        "        dict_statistics: プロット対象のDataFrameを含む辞書。\n",
        "        rows: グラフの行数。\n",
        "        cols: グラフの列数。\n",
        "        dpi: グラフの解像度。\n",
        "\n",
        "    Returns:\n",
        "        None\n",
        "    \"\"\"\n",
        "    plt.subplots_adjust(wspace=0.4, hspace=1.0)\n",
        "    for year, df in dict_statistics.items():\n",
        "        print(f\"{year}\")\n",
        "        # グラフのサイズを指定\n",
        "        fig, axes = plt.subplots(nrows=rows, ncols=cols, figsize=(cols*4, rows*3), dpi=dpi)\n",
        "\n",
        "        # 各列のヒストグラムをプロット\n",
        "        for i, column in enumerate(df.columns):\n",
        "            ax = axes[i // cols, i % cols]\n",
        "            df[column].hist(ax=ax, bins=20)  # ヒストグラムのビンの数を調整可能\n",
        "            ax.set_title(column)\n",
        "\n",
        "        # グラフのレイアウト調整\n",
        "        #plt.tight_layout()\n",
        "        plt.suptitle(f\"Histograms for Year {year}\", fontsize=14)\n",
        "\n",
        "        # グラフの保存 (必要に応じて)\n",
        "        # plt.savefig(f\"histograms_{year}.png\")\n",
        "        plt.show()\n",
        "\n"
      ]
    },
    {
      "cell_type": "code",
      "execution_count": null,
      "metadata": {
        "id": "DeqYw45pf6FD"
      },
      "outputs": [],
      "source": [
        "# ヒストグラムの作成 (グラフの行数、列数、解像度を適宜変更)\n",
        "plot_histograms(dict_statistics, rows=2, cols=4, dpi=72)"
      ]
    },
    {
      "cell_type": "code",
      "execution_count": null,
      "metadata": {
        "id": "NxsvXCZqhGNz"
      },
      "outputs": [],
      "source": []
    }
  ],
  "metadata": {
    "colab": {
      "authorship_tag": "ABX9TyOVEeAy8Rh7fx6bOzBdk+gv",
      "provenance": []
    },
    "kernelspec": {
      "display_name": "Python 3",
      "name": "python3"
    },
    "language_info": {
      "name": "python"
    }
  },
  "nbformat": 4,
  "nbformat_minor": 0
}
