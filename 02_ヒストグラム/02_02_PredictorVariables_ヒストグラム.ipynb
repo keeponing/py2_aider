{
  "nbformat": 4,
  "nbformat_minor": 0,
  "metadata": {
    "colab": {
      "provenance": [],
      "authorship_tag": "ABX9TyO9rUufJIkh/zBaFfOrjUCp"
    },
    "kernelspec": {
      "name": "python3",
      "display_name": "Python 3"
    },
    "language_info": {
      "name": "python"
    }
  },
  "cells": [
    {
      "cell_type": "code",
      "execution_count": null,
      "metadata": {
        "id": "qNAnYLCu2bwJ"
      },
      "outputs": [],
      "source": [
        "!apt updateapt update\n",
        "!pip install mdbtools-dev\n",
        "!apt-get install mdbtools\n",
        "!pip install pandas pyodbc\n",
        "import warnings\n",
        "warnings.filterwarnings('ignore')\n"
      ]
    },
    {
      "cell_type": "code",
      "source": [
        "from google.colab import drive\n",
        "drive.mount('/content/drive')"
      ],
      "metadata": {
        "colab": {
          "base_uri": "https://localhost:8080/"
        },
        "id": "ZJ7nrX1c3HQJ",
        "outputId": "3f9bce80-0fd6-4dc9-883b-0ccffd6c27ea"
      },
      "execution_count": 4,
      "outputs": [
        {
          "output_type": "stream",
          "name": "stdout",
          "text": [
            "Mounted at /content/drive\n"
          ]
        }
      ]
    },
    {
      "cell_type": "code",
      "source": [
        "import sys\n",
        "sys.path.append('/content/drive/MyDrive/Dev/py2/')\n",
        "import numpy as np\n",
        "\n",
        "import pandas as pd\n",
        "from google.colab import files\n",
        "import os\n",
        "import subprocess\n",
        "from io import StringIO  # StringIOを正しくインポート\n",
        "import model.utility.k_analysis_util as k_a_util\n",
        "from IPython.display import display\n",
        "import pandas as pd\n",
        "import matplotlib.pyplot as plt"
      ],
      "metadata": {
        "id": "XBQGTsi1EGkO"
      },
      "execution_count": 5,
      "outputs": []
    },
    {
      "cell_type": "code",
      "source": [
        "\n",
        "# 使用例\n",
        "table_name = 'PredictorVariables'  # テーブル名を指定\n",
        "\n",
        "file_list = [f'kjdb_prediction_cache_{year}.accdb' for year in range(2000, 2025)]\n",
        "years = range(2000, 2025)\n",
        "\n",
        "k_a_util.prepare_pd_on_notebook()\n",
        "print(len(file_list))\n",
        "\n",
        "dict_statistics={}\n",
        "for y in years:\n",
        "  filepath = f'/content/drive/MyDrive/Dev/Kjvan/kjdb_prediction_cache_{y}.accdb'\n",
        "  df_summary = k_a_util.read_table(filepath, table_name)\n",
        "  columns_to_drop = [ 'key_program_id','key_horse_id', 'obj_rank',  'desc_horse_no', 'upd']\n",
        "  df = df_summary.drop(columns=columns_to_drop)\n",
        "  dict_statistics[y] = df"
      ],
      "metadata": {
        "colab": {
          "base_uri": "https://localhost:8080/"
        },
        "id": "MRyXsKhEzCFj",
        "outputId": "60b8f55c-f968-4f3f-e956-dfbd3222931a"
      },
      "execution_count": 7,
      "outputs": [
        {
          "output_type": "stream",
          "name": "stdout",
          "text": [
            "25\n"
          ]
        }
      ]
    },
    {
      "cell_type": "code",
      "source": [
        "print(len(dict_statistics[2000].columns))"
      ],
      "metadata": {
        "id": "Nl0jEfngmM0l"
      },
      "execution_count": null,
      "outputs": []
    },
    {
      "cell_type": "code",
      "source": [
        "# ヒストグラムの作成 (グラフの行数、列数、解像度を適宜変更)\n",
        "k_a_util.plot_histograms(dict_statistics, rows=8, cols=8, dpi=72)"
      ],
      "metadata": {
        "id": "DeqYw45pf6FD"
      },
      "execution_count": null,
      "outputs": []
    },
    {
      "cell_type": "code",
      "source": [
        "\n",
        "def pivot_statistics_by_column(dict_statistics: dict, columns: list = None) -> dict:\n",
        "    \"\"\"\n",
        "    統計データのDataFrameを列単位で転置し、新しいDataFrameを作成します。\n",
        "\n",
        "    Args:\n",
        "        dict_statistics: 年をキーとし、統計データのDataFrameを値とする辞書。\n",
        "        columns: 転置する列名を指定します。Noneの場合、すべての列を転置します。\n",
        "\n",
        "    Returns:\n",
        "        転置された統計データのDataFrameを要素とする辞書。\n",
        "    \"\"\"\n",
        "\n",
        "    def pivot_for_column(col: str) -> pd.DataFrame:\n",
        "        \"\"\"特定の列を転置する関数\"\"\"\n",
        "        try:\n",
        "            data = [df[col].values for df in dict_statistics.values()]\n",
        "            df_pivot = pd.DataFrame(data, index=dict_statistics.keys()).T\n",
        "            df_pivot.columns.name = 'Year'\n",
        "            return df_pivot\n",
        "        except KeyError:\n",
        "            print(f\"列 '{col}' は存在しません。\")\n",
        "            return pd.DataFrame()\n",
        "\n",
        "    if columns is None:\n",
        "        columns = dict_statistics[next(iter(dict_statistics))].columns\n",
        "\n",
        "    return {col: pivot_for_column(col) for col in columns}"
      ],
      "metadata": {
        "id": "NxsvXCZqhGNz"
      },
      "execution_count": 20,
      "outputs": []
    },
    {
      "cell_type": "code",
      "source": [
        "df_summary = pivot_statistics_by_column(dict_statistics)\n",
        "\n",
        "k_a_util.plot_histograms(df_summary, rows=8, cols=4, dpi=72)"
      ],
      "metadata": {
        "id": "0wQ_VtNwK-Cl"
      },
      "execution_count": null,
      "outputs": []
    },
    {
      "cell_type": "code",
      "source": [],
      "metadata": {
        "id": "j0ieNUylLAxz"
      },
      "execution_count": null,
      "outputs": []
    }
  ]
}